{
 "cells": [
  {
   "cell_type": "code",
   "execution_count": 188,
   "metadata": {},
   "outputs": [],
   "source": [
    "import quandl\n",
    "import sys\n",
    "from configparser import RawConfigParser\n",
    "\n",
    "config = RawConfigParser()\n",
    "file = 'https://raw.githubusercontent.com/rpurcell1010/Capstone2/master/config.txt'\n",
    "#config.read_file(open(file))"
   ]
  },
  {
   "cell_type": "code",
   "execution_count": 189,
   "metadata": {},
   "outputs": [],
   "source": [
    "file = 'https://raw.githubusercontent.com/rpurcell1010/Capstone2/master/config.csv'\n",
    "df = pd.read_csv(file,encoding = \"ISO-8859-1\", low_memory = False)\n",
    "df = pd.read_csv(file,index_col=0,parse_dates=[0])\n",
    "#df['key'].to_string()[11:31]"
   ]
  },
  {
   "cell_type": "code",
   "execution_count": 190,
   "metadata": {
    "collapsed": true
   },
   "outputs": [],
   "source": [
    "import quandl\n",
    "quandl.ApiConfig.api_key = df['key'].to_string()[11:31]"
   ]
  },
  {
   "cell_type": "code",
   "execution_count": null,
   "metadata": {
    "collapsed": true
   },
   "outputs": [],
   "source": []
  },
  {
   "cell_type": "code",
   "execution_count": 191,
   "metadata": {},
   "outputs": [
    {
     "name": "stderr",
     "output_type": "stream",
     "text": [
      "/Users/ryanpurcell/anaconda3/lib/python3.6/site-packages/quandl/get_table.py:38: UserWarning: To request more pages, please set paginate=true in your         quandl.get_table() call. For more information see our documentation:         https://github.com/quandl/quandl-python/blob/master/FOR_ANALYSTS.md#things-to-note\n",
      "  warnings.warn(Message.WARN_PAGE_LIMIT_EXCEEDED, UserWarning)\n"
     ]
    }
   ],
   "source": [
    "REVGROWTH = quandl.get_table('SHARADAR/SF1',calendardate={'lte':'2013-1-28'} ,qopts={'columns':['ticker' ,'dimension','datekey','REVENUE']})\n",
    "\n",
    "REVGROWTH['revgrowth']=REVGROWTH.groupby('ticker')['revenue'].pct_change()\n",
    "REVGROWTH = REVGROWTH.dropna()"
   ]
  },
  {
   "cell_type": "code",
   "execution_count": 192,
   "metadata": {
    "collapsed": true
   },
   "outputs": [],
   "source": [
    "#ADDING CURRENT PRICE TO TABLE\n",
    "\n",
    "table = quandl.get_table('SHARADAR/SF1',calendardate={'lte':'2012-1-28'} ,qopts={'columns':['ticker' ,'dimension','datekey','EVEBITDA','PE1','PS1','PB','ROE','MARKETCAP','PRICE','DEBT','EBITDA','FCF','CASHNEQ','EV','REVENUE']})\n",
    "\n",
    "#create a table 2 with current price concat on ticker\n",
    "\n",
    "table2 = quandl.get_table('SHARADAR/SF1',qopts={'columns':['ticker','dimension','datekey','price'],'latest':1})\n",
    "\n",
    "#concat with table with table2 on ticker\n",
    "\n",
    "tablef = table.merge(table2, left_on='ticker', right_on='ticker', how='inner')\n",
    "tablef['performance'] = tablef['price_y']/tablef['price_x']"
   ]
  },
  {
   "cell_type": "code",
   "execution_count": 193,
   "metadata": {
    "collapsed": true
   },
   "outputs": [],
   "source": [
    "import pandas as pd\n",
    "\n",
    "#CREATE VALUE METRICS\n",
    "\n",
    "tablef = pd.DataFrame(tablef)\n",
    "\n",
    "tablef['evrevenue'] = tablef['ev']/tablef['revenue']\n",
    "tablef['evfcf'] = tablef['ev']/tablef['fcf']"
   ]
  },
  {
   "cell_type": "code",
   "execution_count": 194,
   "metadata": {
    "collapsed": true
   },
   "outputs": [],
   "source": [
    "tablef = tablef[['ticker','evrevenue','evfcf','pb','pe1','ps1','evebitda','performance','datekey_y','price_x']].dropna()"
   ]
  },
  {
   "cell_type": "markdown",
   "metadata": {},
   "source": [
    "# TablePositive only positive ratios. Ratios as of EOY 2011"
   ]
  },
  {
   "cell_type": "code",
   "execution_count": 195,
   "metadata": {
    "collapsed": true
   },
   "outputs": [],
   "source": [
    "#only positive ratios\n",
    "tablepos=tablef[tablef.iloc[:,0:7]>0].iloc[:,0:7].dropna()\n",
    "\n",
    "#merger performance\n",
    "tablepositive = tablepos.merge(tablef[['ticker','performance','datekey_y','price_x']], left_on='ticker', right_on='ticker', how='inner')"
   ]
  },
  {
   "cell_type": "code",
   "execution_count": 196,
   "metadata": {},
   "outputs": [
    {
     "data": {
      "text/plain": [
       "2593"
      ]
     },
     "execution_count": 196,
     "metadata": {},
     "output_type": "execute_result"
    }
   ],
   "source": [
    "len(tablepositive)"
   ]
  },
  {
   "cell_type": "code",
   "execution_count": 197,
   "metadata": {},
   "outputs": [],
   "source": [
    "#BRING IN CURRENT STOCK PRICE\n",
    "\n",
    "import pandas as pd\n",
    "import numpy as np\n",
    "#file = '/Users/ryanpurcell/Desktop/PRICE.csv'\n",
    "file = 'https://raw.githubusercontent.com/rpurcell1010/Capstone2/master/PRICE.csv'\n",
    "df = pd.read_csv(file,encoding = \"ISO-8859-1\", low_memory = False)\n",
    "#df = pd.read_csv(file,index_col=0,parse_dates=[0])"
   ]
  },
  {
   "cell_type": "code",
   "execution_count": 198,
   "metadata": {},
   "outputs": [],
   "source": [
    "tablepositive = tablepositive.merge(df, left_on='ticker', right_on='Ticker', how='inner')"
   ]
  },
  {
   "cell_type": "code",
   "execution_count": 199,
   "metadata": {},
   "outputs": [
    {
     "data": {
      "text/plain": [
       "2580"
      ]
     },
     "execution_count": 199,
     "metadata": {},
     "output_type": "execute_result"
    }
   ],
   "source": [
    "tablepositive\n",
    "tablepositive['performance'] = tablepositive['Price']/tablepositive['price_x']\n",
    "len(tablepositive)"
   ]
  },
  {
   "cell_type": "code",
   "execution_count": 200,
   "metadata": {
    "collapsed": true
   },
   "outputs": [],
   "source": [
    "#remove outlier performance\n",
    "tablepositive = tablepositive.dropna()\n",
    "tablepositive = tablepositive[tablepositive['performance']<2000]"
   ]
  },
  {
   "cell_type": "code",
   "execution_count": 201,
   "metadata": {
    "collapsed": true
   },
   "outputs": [],
   "source": [
    "#add Revenue Growth to TablePositive\n",
    "tablepositive =  tablepositive.merge(REVGROWTH, left_on='ticker', right_on='ticker', how='inner')"
   ]
  },
  {
   "cell_type": "code",
   "execution_count": 202,
   "metadata": {},
   "outputs": [
    {
     "data": {
      "text/html": [
       "<div>\n",
       "<style scoped>\n",
       "    .dataframe tbody tr th:only-of-type {\n",
       "        vertical-align: middle;\n",
       "    }\n",
       "\n",
       "    .dataframe tbody tr th {\n",
       "        vertical-align: top;\n",
       "    }\n",
       "\n",
       "    .dataframe thead th {\n",
       "        text-align: right;\n",
       "    }\n",
       "</style>\n",
       "<table border=\"1\" class=\"dataframe\">\n",
       "  <thead>\n",
       "    <tr style=\"text-align: right;\">\n",
       "      <th></th>\n",
       "      <th>evrevenue</th>\n",
       "      <th>evfcf</th>\n",
       "      <th>pb</th>\n",
       "      <th>pe1</th>\n",
       "      <th>ps1</th>\n",
       "      <th>evebitda</th>\n",
       "      <th>performance</th>\n",
       "      <th>price_x</th>\n",
       "      <th>Price</th>\n",
       "      <th>revenue</th>\n",
       "      <th>revgrowth</th>\n",
       "    </tr>\n",
       "  </thead>\n",
       "  <tbody>\n",
       "    <tr>\n",
       "      <th>performance</th>\n",
       "      <td>-0.041676</td>\n",
       "      <td>-0.007496</td>\n",
       "      <td>-0.012627</td>\n",
       "      <td>-0.029891</td>\n",
       "      <td>-0.036039</td>\n",
       "      <td>0.002912</td>\n",
       "      <td>1.0</td>\n",
       "      <td>-0.028287</td>\n",
       "      <td>0.229426</td>\n",
       "      <td>-0.024185</td>\n",
       "      <td>0.023311</td>\n",
       "    </tr>\n",
       "  </tbody>\n",
       "</table>\n",
       "</div>"
      ],
      "text/plain": [
       "             evrevenue     evfcf        pb       pe1       ps1  evebitda  \\\n",
       "performance  -0.041676 -0.007496 -0.012627 -0.029891 -0.036039  0.002912   \n",
       "\n",
       "             performance   price_x     Price   revenue  revgrowth  \n",
       "performance          1.0 -0.028287  0.229426 -0.024185   0.023311  "
      ]
     },
     "execution_count": 202,
     "metadata": {},
     "output_type": "execute_result"
    }
   ],
   "source": [
    "#indicating slight correlations as expected\n",
    "tablepositive.corr().iloc[6:7,:]"
   ]
  },
  {
   "cell_type": "markdown",
   "metadata": {},
   "source": [
    "Creating Quartiles and comparing quartile performance by group"
   ]
  },
  {
   "cell_type": "markdown",
   "metadata": {},
   "source": [
    "# By Quartile"
   ]
  },
  {
   "cell_type": "code",
   "execution_count": 203,
   "metadata": {
    "collapsed": true
   },
   "outputs": [],
   "source": [
    "#Table Positive by Quartile\n",
    "\n",
    "#Top 25% for each valuation group\n",
    "import numpy as np\n",
    "\n",
    "FILTER4evfcf = tablepositive['evfcf'] > np.percentile(tablepositive['evfcf'], 75)\n",
    "FILTER4evrev = tablepositive['evrevenue'] > np.percentile(tablepositive['evrevenue'], 75)\n",
    "FILTER4pb = tablepositive['pb'] > np.percentile(tablepositive['pb'], 75)\n",
    "FILTER4pe1 = tablepositive['pe1'] > np.percentile(tablepositive['pe1'], 75)\n",
    "FILTER4ps1 = tablepositive['ps1'] > np.percentile(tablepositive['ps1'], 75)\n",
    "FILTER4evebitda = tablepositive['evebitda'] > np.percentile(tablepositive['evebitda'], 75)\n",
    "FILTER4revg = tablepositive['revgrowth'] > np.percentile(tablepositive['revgrowth'], 75)\n",
    "\n",
    "#25% to 50% for each valuation grouping\n",
    "\n",
    "FILTER2evfcf = (tablepositive['evfcf'] > np.percentile(tablepositive['evfcf'], 25)) & (tablepositive['evfcf'] <= np.percentile(tablepositive['evfcf'], 50))\n",
    "FILTER2evrev = (tablepositive['evrevenue'] > np.percentile(tablepositive['evrevenue'], 25)) & (tablepositive['evrevenue'] <= np.percentile(tablepositive['evrevenue'], 50))\n",
    "FILTER2pb = (tablepositive['pb'] > np.percentile(tablepositive['pb'], 25)) & (tablepositive['pb'] <= np.percentile(tablepositive['pb'], 50))\n",
    "FILTER2pe1 = (tablepositive['pe1'] > np.percentile(tablepositive['pe1'], 25)) & (tablepositive['pe1'] <= np.percentile(tablepositive['pe1'], 50))\n",
    "FILTER2ps1 = (tablepositive['ps1'] > np.percentile(tablepositive['ps1'], 25)) & (tablepositive['ps1'] <= np.percentile(tablepositive['ps1'], 50))\n",
    "FILTER2evebitda = (tablepositive['evebitda'] > np.percentile(tablepositive['evebitda'], 25)) & (tablepositive['evebitda'] <= np.percentile(tablepositive['evebitda'], 50))\n",
    "FILTER2revg = (tablepositive['revgrowth'] > np.percentile(tablepositive['revgrowth'], 25)) & (tablepositive['revgrowth'] <= np.percentile(tablepositive['revgrowth'], 50))\n",
    "\n",
    "#50% to 75% for each valuation grouping\n",
    "\n",
    "FILTER3evfcf = (tablepositive['evfcf'] > np.percentile(tablepositive['evfcf'], 50)) & (tablepositive['evfcf'] <= np.percentile(tablepositive['evfcf'], 75))\n",
    "FILTER3evrev = (tablepositive['evrevenue'] > np.percentile(tablepositive['evrevenue'], 50)) & (tablepositive['evrevenue'] <= np.percentile(tablepositive['evrevenue'], 75))\n",
    "FILTER3pb = (tablepositive['pb'] > np.percentile(tablepositive['pb'], 50)) & (tablepositive['pb'] <= np.percentile(tablepositive['pb'], 75))\n",
    "FILTER3pe1 = (tablepositive['pe1'] > np.percentile(tablepositive['pe1'], 50)) & (tablepositive['pe1'] <= np.percentile(tablepositive['pe1'], 75))\n",
    "FILTER3ps1 = (tablepositive['ps1'] > np.percentile(tablepositive['ps1'], 50)) & (tablepositive['ps1'] <= np.percentile(tablepositive['ps1'], 75))\n",
    "FILTER3evebitda = (tablepositive['evebitda'] > np.percentile(tablepositive['evebitda'], 50)) & (tablepositive['evebitda'] <= np.percentile(tablepositive['evebitda'], 75))\n",
    "FILTER3revg = (tablepositive['revgrowth'] > np.percentile(tablepositive['revgrowth'], 50)) & (tablepositive['revgrowth'] <= np.percentile(tablepositive['revgrowth'], 75))\n",
    "\n",
    "#lowest 25% for each valuation grouping\n",
    "\n",
    "FILTERevfcf = tablepositive['evfcf'] <= np.percentile(tablepositive['evfcf'], 25)\n",
    "FILTERevrev = tablepositive['evrevenue'] <= np.percentile(tablepositive['evrevenue'], 25)\n",
    "FILTERpb = tablepositive['pb'] <= np.percentile(tablepositive['pb'], 25)\n",
    "FILTERpe1 = tablepositive['pe1'] <= np.percentile(tablepositive['pe1'], 25)\n",
    "FILTERps1 = tablepositive['ps1'] <= np.percentile(tablepositive['ps1'], 25)\n",
    "FILTERevebitda = tablepositive['evebitda'] <= np.percentile(tablepositive['evebitda'], 25)\n",
    "FILTERrevg = tablepositive['revgrowth'] <= np.percentile(tablepositive['revgrowth'], 25)\n",
    "FILTERrevgfcf = tablepositive['revgrowth'] <= np.percentile(tablepositive['revgrowth'], 25)"
   ]
  },
  {
   "cell_type": "markdown",
   "metadata": {},
   "source": [
    "# Growth and EV/FCF"
   ]
  },
  {
   "cell_type": "code",
   "execution_count": 204,
   "metadata": {},
   "outputs": [
    {
     "name": "stderr",
     "output_type": "stream",
     "text": [
      "/Users/ryanpurcell/anaconda3/lib/python3.6/site-packages/ipykernel_launcher.py:1: UserWarning: Boolean Series key will be reindexed to match DataFrame index.\n",
      "  \"\"\"Entry point for launching an IPython kernel.\n",
      "/Users/ryanpurcell/anaconda3/lib/python3.6/site-packages/seaborn/categorical.py:462: FutureWarning: remove_na is deprecated and is a private function. Do not use.\n",
      "  box_data = remove_na(group_data)\n"
     ]
    },
    {
     "data": {
      "image/png": "[encoded data removed]",
      "text/plain": [
       "<matplotlib.figure.Figure at 0x1a1605b0f0>"
      ]
     },
     "metadata": {},
     "output_type": "display_data"
    }
   ],
   "source": [
    "Dict1 = {'25': tablepositive[FILTERrevg][FILTER4evfcf].performance, '50' : tablepositive[FILTER2revg][FILTER3evfcf].performance, '75' : tablepositive[FILTER3revg][FILTER2evfcf].performance, '100' :tablepositive[FILTER4revg][FILTERevfcf].performance}\n",
    "df = pd.DataFrame(Dict1)\n",
    "\n",
    "df = df.stack()\n",
    "\n",
    "df= pd.DataFrame(df)\n",
    "df.reset_index(inplace=True)\n",
    "df.columns = ['a','Quartile','Performance']\n",
    "df=df.drop(['a'], axis=1)\n",
    "df['Quartile'] = df['Quartile'].astype('int') \n",
    "\n",
    "filter1 = df['Performance'] < 10\n",
    "\n",
    "import seaborn as sns\n",
    "import matplotlib.pyplot as plt\n",
    "from matplotlib.ticker import FuncFormatter\n",
    "\n",
    "def millions(x, pos):\n",
    "    return '%1.fx' % (x)\n",
    "\n",
    "formatter = FuncFormatter(millions)\n",
    "\n",
    "fig, ax = plt.subplots()\n",
    "ax.yaxis.set_major_formatter(formatter)\n",
    "\n",
    "plt.title(\"Revenue Growth & EV/FCF Performance by Quartile\")\n",
    "sns.boxplot(x=\"Quartile\", y=\"Performance\", data=df[filter1])\n",
    "\n",
    "plt.xticks([0, 1, 2,3], ['1st/4th', '2nd/3rd', '3rd/2nd','4th/1st'])\n",
    "\n",
    "plt.show()"
   ]
  },
  {
   "cell_type": "code",
   "execution_count": 205,
   "metadata": {},
   "outputs": [
    {
     "data": {
      "image/png": "[encoded data removed]",
      "text/plain": [
       "<matplotlib.figure.Figure at 0x10ccf8ba8>"
      ]
     },
     "metadata": {},
     "output_type": "display_data"
    }
   ],
   "source": [
    "from matplotlib.ticker import FuncFormatter\n",
    "import matplotlib.pyplot as plt\n",
    "import numpy as np\n",
    "\n",
    "x = np.arange(4)\n",
    "money = [df[df['Quartile']==25]['Performance'].mean(), df[df['Quartile']==50]['Performance'].mean(), df[df['Quartile']==75]['Performance'].mean(), df[df['Quartile']==100]['Performance'].mean()]\n",
    "\n",
    "\n",
    "def millions(x,pos):\n",
    "    return '%1.1fx' % (x)\n",
    "\n",
    "formatter = FuncFormatter(millions)\n",
    "\n",
    "fig, ax = plt.subplots()\n",
    "ax.yaxis.set_major_formatter(formatter)\n",
    "plt.bar(x, money,color='tomato')\n",
    "plt.xticks(x, [25,50,75,100])\n",
    "plt.xlabel(\"Quartile\")\n",
    "plt.ylabel(\"Performance\")\n",
    "plt.title(\"Revenue Growth & EV/FCF Mean Performance by Quartile\")\n",
    "plt.xticks([0, 1, 2,3], ['1st/4th', '2nd/3rd', '3rd/2nd','4th/1st'])\n",
    "plt.show()"
   ]
  },
  {
   "cell_type": "markdown",
   "metadata": {},
   "source": [
    "# Growth"
   ]
  },
  {
   "cell_type": "code",
   "execution_count": 206,
   "metadata": {},
   "outputs": [
    {
     "name": "stderr",
     "output_type": "stream",
     "text": [
      "/Users/ryanpurcell/anaconda3/lib/python3.6/site-packages/seaborn/categorical.py:462: FutureWarning: remove_na is deprecated and is a private function. Do not use.\n",
      "  box_data = remove_na(group_data)\n"
     ]
    },
    {
     "data": {
      "image/png": "[encoded data removed]",
      "text/plain": [
       "<matplotlib.figure.Figure at 0x10491a9b0>"
      ]
     },
     "metadata": {},
     "output_type": "display_data"
    }
   ],
   "source": [
    "Dict1 = {'25': tablepositive[FILTERrevg].performance, '50' : tablepositive[FILTER2revg].performance, '75' : tablepositive[FILTER3revg].performance, '100' :tablepositive[FILTER4revg].performance}\n",
    "df = pd.DataFrame(Dict1)\n",
    "\n",
    "df = df.stack()\n",
    "\n",
    "df= pd.DataFrame(df)\n",
    "df.reset_index(inplace=True)\n",
    "df.columns = ['a','Quartile','Performance']\n",
    "df=df.drop(['a'], axis=1)\n",
    "df['Quartile'] = df['Quartile'].astype('int') \n",
    "\n",
    "filter1 = df['Performance'] < 10\n",
    "\n",
    "import seaborn as sns\n",
    "import matplotlib.pyplot as plt\n",
    "from matplotlib.ticker import FuncFormatter\n",
    "\n",
    "def millions(x, pos):\n",
    "    return '%1.fx' % (x)\n",
    "\n",
    "formatter = FuncFormatter(millions)\n",
    "\n",
    "fig, ax = plt.subplots()\n",
    "ax.yaxis.set_major_formatter(formatter)\n",
    "\n",
    "plt.title(\"Revenue Growth Performance by Quartile\")\n",
    "sns.boxplot(x=\"Quartile\", y=\"Performance\", data=df[filter1])\n",
    "\n",
    "plt.xticks([0, 1, 2,3], ['1st', '2nd', '3rd','4th'])\n",
    "\n",
    "plt.show()"
   ]
  },
  {
   "cell_type": "code",
   "execution_count": 207,
   "metadata": {},
   "outputs": [
    {
     "data": {
      "image/png": "[encoded data removed]",
      "text/plain": [
       "<matplotlib.figure.Figure at 0x10c937ba8>"
      ]
     },
     "metadata": {},
     "output_type": "display_data"
    }
   ],
   "source": [
    "from matplotlib.ticker import FuncFormatter\n",
    "import matplotlib.pyplot as plt\n",
    "import numpy as np\n",
    "\n",
    "x = np.arange(4)\n",
    "money = [df[df['Quartile']==25]['Performance'].mean(), df[df['Quartile']==50]['Performance'].mean(), df[df['Quartile']==75]['Performance'].mean(), df[df['Quartile']==100]['Performance'].mean()]\n",
    "\n",
    "\n",
    "def millions(x, pos):\n",
    "    return '%1.1fx' % (x)\n",
    "\n",
    "formatter = FuncFormatter(millions)\n",
    "\n",
    "fig, ax = plt.subplots()\n",
    "ax.yaxis.set_major_formatter(formatter)\n",
    "plt.bar(x, money,color='tomato')\n",
    "plt.xticks(x, [25,50,75,100])\n",
    "plt.xlabel(\"Quartile\")\n",
    "plt.ylabel(\"Performance\")\n",
    "plt.title(\"Revenue Growth Mean Performance by Quartile\")\n",
    "plt.xticks([0, 1, 2,3], ['1st', '2nd', '3rd','4th'])\n",
    "plt.show()"
   ]
  },
  {
   "cell_type": "markdown",
   "metadata": {},
   "source": [
    "# EV / Rev"
   ]
  },
  {
   "cell_type": "code",
   "execution_count": 208,
   "metadata": {},
   "outputs": [
    {
     "name": "stderr",
     "output_type": "stream",
     "text": [
      "/Users/ryanpurcell/anaconda3/lib/python3.6/site-packages/seaborn/categorical.py:462: FutureWarning: remove_na is deprecated and is a private function. Do not use.\n",
      "  box_data = remove_na(group_data)\n"
     ]
    },
    {
     "data": {
      "image/png": "[encoded data removed]",
      "text/plain": [
       "<matplotlib.figure.Figure at 0x10c9377b8>"
      ]
     },
     "metadata": {},
     "output_type": "display_data"
    }
   ],
   "source": [
    "Dict1 = {'25': tablepositive[FILTERevrev].performance, '50' : tablepositive[FILTER2evrev].performance, '75' : tablepositive[FILTER3evrev].performance, '100' :tablepositive[FILTER4evrev].performance}\n",
    "df = pd.DataFrame(Dict1)\n",
    "\n",
    "df = df.stack()\n",
    "\n",
    "df= pd.DataFrame(df)\n",
    "df.reset_index(inplace=True)\n",
    "df.columns = ['a','Quartile','Performance']\n",
    "df=df.drop(['a'], axis=1)\n",
    "df['Quartile'] = df['Quartile'].astype('int') \n",
    "\n",
    "filter1 = df['Performance'] < 10\n",
    "\n",
    "import seaborn as sns\n",
    "import matplotlib.pyplot as plt\n",
    "from matplotlib.ticker import FuncFormatter\n",
    "\n",
    "def millions(x, pos):\n",
    "    return '%1.fx' % (x)\n",
    "\n",
    "formatter = FuncFormatter(millions)\n",
    "\n",
    "fig, ax = plt.subplots()\n",
    "ax.yaxis.set_major_formatter(formatter)\n",
    "\n",
    "plt.title(\"EV/Rev Performance by Quartile\")\n",
    "sns.boxplot(x=\"Quartile\", y=\"Performance\", data=df[filter1])\n",
    "\n",
    "plt.xticks([0, 1, 2,3], ['1st', '2nd', '3rd','4th'])\n",
    "\n",
    "plt.show()"
   ]
  },
  {
   "cell_type": "code",
   "execution_count": 209,
   "metadata": {},
   "outputs": [
    {
     "data": {
      "image/png": "[encoded data removed]",
      "text/plain": [
       "<matplotlib.figure.Figure at 0x1a16f3ab00>"
      ]
     },
     "metadata": {},
     "output_type": "display_data"
    }
   ],
   "source": [
    "from matplotlib.ticker import FuncFormatter\n",
    "import matplotlib.pyplot as plt\n",
    "import numpy as np\n",
    "\n",
    "x = np.arange(4)\n",
    "money = [df[df['Quartile']==25]['Performance'].mean(), df[df['Quartile']==50]['Performance'].mean(), df[df['Quartile']==75]['Performance'].mean(), df[df['Quartile']==100]['Performance'].mean()]\n",
    "\n",
    "\n",
    "def millions(x, pos):\n",
    "    return '%1.1fx' % (x)\n",
    "\n",
    "formatter = FuncFormatter(millions)\n",
    "\n",
    "fig, ax = plt.subplots()\n",
    "ax.yaxis.set_major_formatter(formatter)\n",
    "plt.bar(x, money,color='tomato')\n",
    "plt.xticks(x, [25,50,75,100])\n",
    "plt.xlabel(\"Quartile\")\n",
    "plt.ylabel(\"Performance\")\n",
    "plt.title(\"EV/Revenue Mean Performance by Quartile\")\n",
    "plt.xticks([0, 1, 2,3], ['1st', '2nd', '3rd','4th'])\n",
    "plt.show()"
   ]
  },
  {
   "cell_type": "code",
   "execution_count": 210,
   "metadata": {},
   "outputs": [
    {
     "data": {
      "text/plain": [
       "Ttest_indResult(statistic=-1.3921160823761038, pvalue=0.16419644735775399)"
      ]
     },
     "execution_count": 210,
     "metadata": {},
     "output_type": "execute_result"
    }
   ],
   "source": [
    "#t-test comparing top 25 to bottom 25\n",
    "\n",
    "import scipy.stats as st\n",
    "\n",
    "pf = df[df['Quartile']==25]['Performance']\n",
    "\n",
    "pf1 = df[df['Quartile']==100]['Performance']\n",
    "\n",
    "st.ttest_ind(pf1,pf)\n"
   ]
  },
  {
   "cell_type": "markdown",
   "metadata": {},
   "source": [
    "# ev / fcf"
   ]
  },
  {
   "cell_type": "code",
   "execution_count": 211,
   "metadata": {},
   "outputs": [
    {
     "name": "stderr",
     "output_type": "stream",
     "text": [
      "/Users/ryanpurcell/anaconda3/lib/python3.6/site-packages/seaborn/categorical.py:462: FutureWarning: remove_na is deprecated and is a private function. Do not use.\n",
      "  box_data = remove_na(group_data)\n"
     ]
    },
    {
     "data": {
      "image/png": "[encoded data removed]",
      "text/plain": [
       "<matplotlib.figure.Figure at 0x1a16f26b00>"
      ]
     },
     "metadata": {},
     "output_type": "display_data"
    }
   ],
   "source": [
    "Dict1 = {'25': tablepositive[FILTERevfcf].performance, '50' : tablepositive[FILTER2evfcf].performance, '75' : tablepositive[FILTER3evfcf].performance, '100' :tablepositive[FILTER4evfcf].performance}\n",
    "df = pd.DataFrame(Dict1)\n",
    "\n",
    "df = df.stack()\n",
    "\n",
    "df= pd.DataFrame(df)\n",
    "df.reset_index(inplace=True)\n",
    "df.columns = ['a','Quartile','Performance']\n",
    "df=df.drop(['a'], axis=1)\n",
    "df['Quartile'] = df['Quartile'].astype('int') \n",
    "\n",
    "filter1 = df['Performance'] < 10\n",
    "\n",
    "import seaborn as sns\n",
    "\n",
    "def millions(x, pos):\n",
    "    return '%1.fx' % (x)\n",
    "\n",
    "formatter = FuncFormatter(millions)\n",
    "\n",
    "fig, ax = plt.subplots()\n",
    "ax.yaxis.set_major_formatter(formatter)\n",
    "\n",
    "plt.title(\"EV/FCF Performance by Quartile\")\n",
    "sns.boxplot(x=\"Quartile\", y=\"Performance\", data=df[filter1])\n",
    "plt.xticks([0, 1, 2,3], ['1st', '2nd', '3rd','4th'])\n",
    "plt.show()"
   ]
  },
  {
   "cell_type": "code",
   "execution_count": 212,
   "metadata": {},
   "outputs": [
    {
     "data": {
      "text/plain": [
       "2.27352418801957"
      ]
     },
     "execution_count": 212,
     "metadata": {},
     "output_type": "execute_result"
    }
   ],
   "source": [
    "df[df['Quartile']==25]['Performance'].mean()"
   ]
  },
  {
   "cell_type": "code",
   "execution_count": 213,
   "metadata": {},
   "outputs": [
    {
     "data": {
      "text/plain": [
       "1.6624844783314843"
      ]
     },
     "execution_count": 213,
     "metadata": {},
     "output_type": "execute_result"
    }
   ],
   "source": [
    "df[df['Quartile']==100]['Performance'].mean()"
   ]
  },
  {
   "cell_type": "code",
   "execution_count": 214,
   "metadata": {},
   "outputs": [
    {
     "data": {
      "text/plain": [
       "1.8553467176929408"
      ]
     },
     "execution_count": 214,
     "metadata": {},
     "output_type": "execute_result"
    }
   ],
   "source": [
    "df[df['Quartile']==25]['Performance'].median()"
   ]
  },
  {
   "cell_type": "code",
   "execution_count": 215,
   "metadata": {},
   "outputs": [
    {
     "data": {
      "text/plain": [
       "1.251472320376914"
      ]
     },
     "execution_count": 215,
     "metadata": {},
     "output_type": "execute_result"
    }
   ],
   "source": [
    "df[df['Quartile']==100]['Performance'].median()"
   ]
  },
  {
   "cell_type": "code",
   "execution_count": 216,
   "metadata": {},
   "outputs": [
    {
     "data": {
      "image/png": "[encoded data removed]",
      "text/plain": [
       "<matplotlib.figure.Figure at 0x10ae1d3c8>"
      ]
     },
     "metadata": {},
     "output_type": "display_data"
    }
   ],
   "source": [
    "from matplotlib.ticker import FuncFormatter\n",
    "import matplotlib.pyplot as plt\n",
    "import numpy as np\n",
    "\n",
    "x = np.arange(4)\n",
    "money = [df[df['Quartile']==25]['Performance'].mean(), df[df['Quartile']==50]['Performance'].mean(), df[df['Quartile']==75]['Performance'].mean(), df[df['Quartile']==100]['Performance'].mean()]\n",
    "\n",
    "\n",
    "def millions(x, pos):\n",
    "    return '%1.1fx' % (x)\n",
    "\n",
    "formatter = FuncFormatter(millions)\n",
    "\n",
    "fig, ax = plt.subplots()\n",
    "ax.yaxis.set_major_formatter(formatter)\n",
    "plt.bar(x, money,color='tomato')\n",
    "plt.xticks(x, [25,50,75,100])\n",
    "plt.xlabel(\"Quartile\")\n",
    "plt.ylabel(\"Performance\")\n",
    "plt.title(\"EV/FCF Mean Performance by Quartile\")\n",
    "plt.xticks([0, 1, 2,3], ['1st', '2nd', '3rd','4th'])\n",
    "plt.show()"
   ]
  },
  {
   "cell_type": "code",
   "execution_count": 217,
   "metadata": {},
   "outputs": [
    {
     "data": {
      "text/plain": [
       "Ttest_indResult(statistic=-4.238698249527407, pvalue=2.4559615686442702e-05)"
      ]
     },
     "execution_count": 217,
     "metadata": {},
     "output_type": "execute_result"
    }
   ],
   "source": [
    "import scipy.stats as st\n",
    "\n",
    "pf = df[df['Quartile']==25]['Performance']\n",
    "\n",
    "pf1 = df[df['Quartile']==100]['Performance']\n",
    "\n",
    "st.ttest_ind(pf1,pf)"
   ]
  },
  {
   "cell_type": "markdown",
   "metadata": {},
   "source": [
    "# pb"
   ]
  },
  {
   "cell_type": "code",
   "execution_count": 218,
   "metadata": {},
   "outputs": [
    {
     "name": "stderr",
     "output_type": "stream",
     "text": [
      "/Users/ryanpurcell/anaconda3/lib/python3.6/site-packages/seaborn/categorical.py:462: FutureWarning: remove_na is deprecated and is a private function. Do not use.\n",
      "  box_data = remove_na(group_data)\n"
     ]
    },
    {
     "data": {
      "image/png": "[encoded data removed]",
      "text/plain": [
       "<matplotlib.figure.Figure at 0x10c980780>"
      ]
     },
     "metadata": {},
     "output_type": "display_data"
    }
   ],
   "source": [
    "Dict1 = {'25': tablepositive[FILTERpb].performance, '50' : tablepositive[FILTER2pb].performance, '75' : tablepositive[FILTER3pb].performance, '100' :tablepositive[FILTER4pb].performance}\n",
    "df = pd.DataFrame(Dict1)\n",
    "\n",
    "df = df.stack()\n",
    "\n",
    "df= pd.DataFrame(df)\n",
    "df.reset_index(inplace=True)\n",
    "df.columns = ['a','Quartile','Performance']\n",
    "df=df.drop(['a'], axis=1)\n",
    "df['Quartile'] = df['Quartile'].astype('int') \n",
    "\n",
    "filter1 = df['Performance'] < 10\n",
    "\n",
    "import seaborn as sns\n",
    "\n",
    "def millions(x, pos):\n",
    "    return '%1.fx' % (x)\n",
    "\n",
    "formatter = FuncFormatter(millions)\n",
    "\n",
    "fig, ax = plt.subplots()\n",
    "ax.yaxis.set_major_formatter(formatter)\n",
    "\n",
    "plt.title(\"P/B Performance by Quartile\")\n",
    "sns.boxplot(x=\"Quartile\", y=\"Performance\", data=df[filter1])\n",
    "plt.xticks([0, 1, 2,3], ['1st', '2nd', '3rd','4th'])\n",
    "plt.show()"
   ]
  },
  {
   "cell_type": "code",
   "execution_count": 219,
   "metadata": {},
   "outputs": [
    {
     "data": {
      "image/png": "[encoded data removed]",
      "text/plain": [
       "<matplotlib.figure.Figure at 0x1049161d0>"
      ]
     },
     "metadata": {},
     "output_type": "display_data"
    }
   ],
   "source": [
    "from matplotlib.ticker import FuncFormatter\n",
    "import matplotlib.pyplot as plt\n",
    "import numpy as np\n",
    "\n",
    "x = np.arange(4)\n",
    "money = [df[df['Quartile']==25]['Performance'].mean(), df[df['Quartile']==50]['Performance'].mean(), df[df['Quartile']==75]['Performance'].mean(), df[df['Quartile']==100]['Performance'].mean()]\n",
    "\n",
    "\n",
    "def millions(x, pos):\n",
    "    return '%1.1fx' % (x)\n",
    "\n",
    "formatter = FuncFormatter(millions)\n",
    "\n",
    "fig, ax = plt.subplots()\n",
    "ax.yaxis.set_major_formatter(formatter)\n",
    "plt.bar(x, money,color='tomato')\n",
    "plt.xticks(x, [25,50,75,100])\n",
    "plt.xlabel(\"Quartile\")\n",
    "plt.ylabel(\"Performance\")\n",
    "plt.title(\"P/B Mean Performance by Quartile\")\n",
    "plt.xticks([0, 1, 2,3], ['1st', '2nd', '3rd','4th'])\n",
    "plt.show()"
   ]
  },
  {
   "cell_type": "code",
   "execution_count": 220,
   "metadata": {},
   "outputs": [
    {
     "data": {
      "text/plain": [
       "Ttest_indResult(statistic=-2.4857696275350132, pvalue=0.013089428999763361)"
      ]
     },
     "execution_count": 220,
     "metadata": {},
     "output_type": "execute_result"
    }
   ],
   "source": [
    "import scipy.stats as st\n",
    "\n",
    "pf = df[df['Quartile']==25]['Performance']\n",
    "\n",
    "pf1 = df[df['Quartile']==100]['Performance']\n",
    "\n",
    "st.ttest_ind(pf1,pf)"
   ]
  },
  {
   "cell_type": "markdown",
   "metadata": {},
   "source": [
    "# pe1"
   ]
  },
  {
   "cell_type": "code",
   "execution_count": 221,
   "metadata": {},
   "outputs": [
    {
     "name": "stderr",
     "output_type": "stream",
     "text": [
      "/Users/ryanpurcell/anaconda3/lib/python3.6/site-packages/seaborn/categorical.py:462: FutureWarning: remove_na is deprecated and is a private function. Do not use.\n",
      "  box_data = remove_na(group_data)\n"
     ]
    },
    {
     "data": {
      "image/png": "[encoded data removed]",
      "text/plain": [
       "<matplotlib.figure.Figure at 0x1a16179fd0>"
      ]
     },
     "metadata": {},
     "output_type": "display_data"
    }
   ],
   "source": [
    "Dict1 = {'25': tablepositive[FILTERpe1].performance, '50' : tablepositive[FILTER2pe1].performance, '75' : tablepositive[FILTER3pe1].performance, '100' :tablepositive[FILTER4pe1].performance}\n",
    "df = pd.DataFrame(Dict1)\n",
    "\n",
    "df = df.stack()\n",
    "\n",
    "df= pd.DataFrame(df)\n",
    "df.reset_index(inplace=True)\n",
    "df.columns = ['a','Quartile','Performance']\n",
    "df=df.drop(['a'], axis=1)\n",
    "df['Quartile'] = df['Quartile'].astype('int') \n",
    "\n",
    "filter1 = df['Performance'] < 10\n",
    "\n",
    "import seaborn as sns\n",
    "\n",
    "def millions(x, pos):\n",
    "    return '%1.fx' % (x)\n",
    "\n",
    "formatter = FuncFormatter(millions)\n",
    "\n",
    "fig, ax = plt.subplots()\n",
    "ax.yaxis.set_major_formatter(formatter)\n",
    "\n",
    "plt.title(\"P/E Performance by Quartile\")\n",
    "sns.boxplot(x=\"Quartile\", y=\"Performance\", data=df[filter1])\n",
    "plt.xticks([0, 1, 2,3], ['1st', '2nd', '3rd','4th'])\n",
    "plt.show()"
   ]
  },
  {
   "cell_type": "code",
   "execution_count": 222,
   "metadata": {},
   "outputs": [
    {
     "data": {
      "image/png": "[encoded data removed]",
      "text/plain": [
       "<matplotlib.figure.Figure at 0x10ac19d68>"
      ]
     },
     "metadata": {},
     "output_type": "display_data"
    }
   ],
   "source": [
    "from matplotlib.ticker import FuncFormatter\n",
    "import matplotlib.pyplot as plt\n",
    "import numpy as np\n",
    "\n",
    "x = np.arange(4)\n",
    "money = [df[df['Quartile']==25]['Performance'].mean(), df[df['Quartile']==50]['Performance'].mean(), df[df['Quartile']==75]['Performance'].mean(), df[df['Quartile']==100]['Performance'].mean()]\n",
    "\n",
    "\n",
    "def millions(x, pos):\n",
    "    return '%1.1fx' % (x)\n",
    "\n",
    "formatter = FuncFormatter(millions)\n",
    "\n",
    "fig, ax = plt.subplots()\n",
    "ax.yaxis.set_major_formatter(formatter)\n",
    "plt.bar(x, money,color='tomato')\n",
    "plt.xticks(x, [25,50,75,100])\n",
    "plt.xlabel(\"Quartile\")\n",
    "plt.ylabel(\"Performance\")\n",
    "plt.title(\"P/E Mean Performance by Quartile\")\n",
    "plt.xticks([0, 1, 2,3], ['1st', '2nd', '3rd','4th'])\n",
    "plt.show()"
   ]
  },
  {
   "cell_type": "code",
   "execution_count": 223,
   "metadata": {},
   "outputs": [
    {
     "data": {
      "text/plain": [
       "Ttest_indResult(statistic=-1.8337261495605812, pvalue=0.066991421096836146)"
      ]
     },
     "execution_count": 223,
     "metadata": {},
     "output_type": "execute_result"
    }
   ],
   "source": [
    "import scipy.stats as st\n",
    "\n",
    "pf = df[df['Quartile']==25]['Performance']\n",
    "\n",
    "pf1 = df[df['Quartile']==100]['Performance']\n",
    "\n",
    "st.ttest_ind(pf1,pf)"
   ]
  },
  {
   "cell_type": "markdown",
   "metadata": {},
   "source": [
    "# ps1"
   ]
  },
  {
   "cell_type": "code",
   "execution_count": 224,
   "metadata": {},
   "outputs": [
    {
     "name": "stderr",
     "output_type": "stream",
     "text": [
      "/Users/ryanpurcell/anaconda3/lib/python3.6/site-packages/seaborn/categorical.py:462: FutureWarning: remove_na is deprecated and is a private function. Do not use.\n",
      "  box_data = remove_na(group_data)\n"
     ]
    },
    {
     "data": {
      "image/png": "[encoded data removed]",
      "text/plain": [
       "<matplotlib.figure.Figure at 0x10a680b38>"
      ]
     },
     "metadata": {},
     "output_type": "display_data"
    }
   ],
   "source": [
    "Dict1 = {'25': tablepositive[FILTERps1].performance, '50' : tablepositive[FILTER2ps1].performance, '75' : tablepositive[FILTER3ps1].performance, '100' :tablepositive[FILTER4ps1].performance}\n",
    "df = pd.DataFrame(Dict1)\n",
    "df = df.stack()\n",
    "\n",
    "df= pd.DataFrame(df)\n",
    "df.reset_index(inplace=True)\n",
    "df.columns = ['a','Quartile','Performance']\n",
    "df['Quartile'] = df['Quartile'].astype('int') \n",
    "df=df.drop(['a'], axis=1)\n",
    "order = sorted(df.Quartile.unique())\n",
    "\n",
    "filter1 = df['Performance'] < 10\n",
    "\n",
    "\n",
    "import seaborn as sns\n",
    "\n",
    "def millions(x, pos):\n",
    "    return '%1.fx' % (x)\n",
    "\n",
    "formatter = FuncFormatter(millions)\n",
    "\n",
    "fig, ax = plt.subplots()\n",
    "ax.yaxis.set_major_formatter(formatter)\n",
    "\n",
    "plt.title(\"P/S Performance by Quartile\")\n",
    "sns.boxplot(x=\"Quartile\", y=\"Performance\",order=order,data=df[filter1])\n",
    "plt.xticks([0, 1, 2,3], ['1st', '2nd', '3rd','4th'])\n",
    "plt.show()"
   ]
  },
  {
   "cell_type": "code",
   "execution_count": 225,
   "metadata": {},
   "outputs": [
    {
     "data": {
      "image/png": "[encoded data removed]",
      "text/plain": [
       "<matplotlib.figure.Figure at 0x10ad9e5c0>"
      ]
     },
     "metadata": {},
     "output_type": "display_data"
    }
   ],
   "source": [
    "from matplotlib.ticker import FuncFormatter\n",
    "import matplotlib.pyplot as plt\n",
    "import numpy as np\n",
    "\n",
    "x = np.arange(4)\n",
    "money = [df[df['Quartile']==25]['Performance'].mean(), df[df['Quartile']==50]['Performance'].mean(), df[df['Quartile']==75]['Performance'].mean(), df[df['Quartile']==100]['Performance'].mean()]\n",
    "\n",
    "\n",
    "def millions(x, pos):\n",
    "    return '%1.1fx' % (x)\n",
    "\n",
    "formatter = FuncFormatter(millions)\n",
    "\n",
    "fig, ax = plt.subplots()\n",
    "ax.yaxis.set_major_formatter(formatter)\n",
    "plt.bar(x, money,color='tomato')\n",
    "plt.xticks(x, [25,50,75,100])\n",
    "plt.xlabel(\"Quartile\")\n",
    "plt.ylabel(\"Performance\")\n",
    "plt.title(\"P/S Mean Performance by Quartile\")\n",
    "plt.xticks([0, 1, 2,3], ['1st', '2nd', '3rd','4th'])\n",
    "plt.show()"
   ]
  },
  {
   "cell_type": "code",
   "execution_count": 226,
   "metadata": {},
   "outputs": [
    {
     "data": {
      "text/plain": [
       "Ttest_indResult(statistic=-3.8178427403396653, pvalue=0.00014290262616677371)"
      ]
     },
     "execution_count": 226,
     "metadata": {},
     "output_type": "execute_result"
    }
   ],
   "source": [
    "import scipy.stats as st\n",
    "\n",
    "pf = df[df['Quartile']==25]['Performance']\n",
    "\n",
    "pf1 = df[df['Quartile']==100]['Performance']\n",
    "\n",
    "st.ttest_ind(pf1,pf)"
   ]
  },
  {
   "cell_type": "markdown",
   "metadata": {},
   "source": [
    "# ev / ebitda"
   ]
  },
  {
   "cell_type": "code",
   "execution_count": 227,
   "metadata": {},
   "outputs": [
    {
     "name": "stderr",
     "output_type": "stream",
     "text": [
      "/Users/ryanpurcell/anaconda3/lib/python3.6/site-packages/seaborn/categorical.py:462: FutureWarning: remove_na is deprecated and is a private function. Do not use.\n",
      "  box_data = remove_na(group_data)\n"
     ]
    },
    {
     "data": {
      "image/png": "[encoded data removed]",
      "text/plain": [
       "<matplotlib.figure.Figure at 0x10a7df470>"
      ]
     },
     "metadata": {},
     "output_type": "display_data"
    }
   ],
   "source": [
    "Dict1 = {'25': tablepositive[FILTERevebitda].performance, '50' : tablepositive[FILTER2evebitda].performance, '75' : tablepositive[FILTER3evebitda].performance, '100' :tablepositive[FILTER4evebitda].performance}\n",
    "df = pd.DataFrame(Dict1)\n",
    "\n",
    "df = df.stack()\n",
    "\n",
    "df= pd.DataFrame(df)\n",
    "df.reset_index(inplace=True)\n",
    "df.columns = ['a','Quartile','Performance']\n",
    "df=df.drop(['a'], axis=1)\n",
    "df['Quartile'] = df['Quartile'].astype('int') \n",
    "\n",
    "\n",
    "filter1 = df['Performance'] < 10\n",
    "\n",
    "\n",
    "import seaborn as sns\n",
    "\n",
    "def millions(x, pos):\n",
    "    return '%1.fx' % (x)\n",
    "\n",
    "formatter = FuncFormatter(millions)\n",
    "\n",
    "fig, ax = plt.subplots()\n",
    "ax.yaxis.set_major_formatter(formatter)\n",
    "\n",
    "plt.title(\"EV/EBITDA Performance by Quartile\")\n",
    "sns.boxplot(x=\"Quartile\", y=\"Performance\", data=df[filter1])\n",
    "plt.xticks([0, 1, 2,3], ['1st', '2nd', '3rd','4th'])\n",
    "plt.show()"
   ]
  },
  {
   "cell_type": "code",
   "execution_count": 228,
   "metadata": {},
   "outputs": [
    {
     "data": {
      "image/png": "[encoded data removed]",
      "text/plain": [
       "<matplotlib.figure.Figure at 0x10cc42f60>"
      ]
     },
     "metadata": {},
     "output_type": "display_data"
    }
   ],
   "source": [
    "from matplotlib.ticker import FuncFormatter\n",
    "import matplotlib.pyplot as plt\n",
    "import numpy as np\n",
    "\n",
    "x = np.arange(4)\n",
    "money = [df[df['Quartile']==25]['Performance'].mean(), df[df['Quartile']==50]['Performance'].mean(), df[df['Quartile']==75]['Performance'].mean(), df[df['Quartile']==100]['Performance'].mean()]\n",
    "\n",
    "\n",
    "def millions(x, pos):\n",
    "    return '%1.1fx' % (x)\n",
    "\n",
    "formatter = FuncFormatter(millions)\n",
    "\n",
    "fig, ax = plt.subplots()\n",
    "ax.yaxis.set_major_formatter(formatter)\n",
    "plt.bar(x, money,color='tomato')\n",
    "plt.xticks(x, [25,50,75,100])\n",
    "plt.xlabel(\"Quartile\")\n",
    "plt.ylabel(\"Performance\")\n",
    "plt.title(\"EV/EBITDA Mean Performance by Quartile\")\n",
    "plt.xticks([0, 1, 2,3], ['1st', '2nd', '3rd','4th'])\n",
    "\n",
    "plt.show()"
   ]
  },
  {
   "cell_type": "code",
   "execution_count": 229,
   "metadata": {},
   "outputs": [
    {
     "data": {
      "text/plain": [
       "Ttest_indResult(statistic=-1.0702138198207289, pvalue=0.28478105873566834)"
      ]
     },
     "execution_count": 229,
     "metadata": {},
     "output_type": "execute_result"
    }
   ],
   "source": [
    "import scipy.stats as st\n",
    "\n",
    "pf = df[df['Quartile']==25]['Performance']\n",
    "\n",
    "pf1 = df[df['Quartile']==100]['Performance']\n",
    "\n",
    "st.ttest_ind(pf1,pf)"
   ]
  },
  {
   "cell_type": "markdown",
   "metadata": {},
   "source": [
    "# Random Forest Regression"
   ]
  },
  {
   "cell_type": "code",
   "execution_count": 230,
   "metadata": {},
   "outputs": [
    {
     "data": {
      "text/plain": [
       "1.9581286998804595"
      ]
     },
     "execution_count": 230,
     "metadata": {},
     "output_type": "execute_result"
    }
   ],
   "source": [
    "X = tablepositive[['evfcf']]\n",
    "y = tablepositive['performance']\n",
    "\n",
    "from sklearn.model_selection import train_test_split\n",
    "X_train, X_test, y_train, y_test = train_test_split(X,y,test_size = 0.2, random_state = 1)\n",
    "\n",
    "from sklearn.ensemble import RandomForestRegressor\n",
    "forest = RandomForestRegressor(n_estimators = 100, criterion = 'mse', random_state=1,n_jobs = -1)\n",
    "\n",
    "forest.fit(X_train, y_train)\n",
    "y_train_pred = forest.predict(X_train)\n",
    "y_train_pred.mean()"
   ]
  },
  {
   "cell_type": "code",
   "execution_count": 231,
   "metadata": {
    "collapsed": true
   },
   "outputs": [],
   "source": [
    "X25 = X_test[(X_test['evfcf']<=np.percentile(X_test['evfcf'], 25))]\n",
    "\n",
    "X100 = X_test[(X_test['evfcf']>=np.percentile(X_test['evfcf'], 75))]"
   ]
  },
  {
   "cell_type": "code",
   "execution_count": 232,
   "metadata": {},
   "outputs": [
    {
     "data": {
      "text/plain": [
       "2.0386347332522146"
      ]
     },
     "execution_count": 232,
     "metadata": {},
     "output_type": "execute_result"
    }
   ],
   "source": [
    "y_train_pred = forest.predict(X25)\n",
    "y_train_pred.mean()"
   ]
  },
  {
   "cell_type": "code",
   "execution_count": 233,
   "metadata": {},
   "outputs": [
    {
     "data": {
      "text/plain": [
       "1.6220600088866339"
      ]
     },
     "execution_count": 233,
     "metadata": {},
     "output_type": "execute_result"
    }
   ],
   "source": [
    "y_train_pred = forest.predict(X100)\n",
    "y_train_pred.mean()"
   ]
  },
  {
   "cell_type": "code",
   "execution_count": 234,
   "metadata": {},
   "outputs": [
    {
     "data": {
      "text/plain": [
       "1.9795440497066397"
      ]
     },
     "execution_count": 234,
     "metadata": {},
     "output_type": "execute_result"
    }
   ],
   "source": [
    "X = tablepositive[['evfcf','revgrowth']]\n",
    "y = tablepositive['performance']\n",
    "\n",
    "from sklearn.model_selection import train_test_split\n",
    "X_train, X_test, y_train, y_test = train_test_split(X,y,test_size = 0.2, random_state = 1)\n",
    "\n",
    "from sklearn.ensemble import RandomForestRegressor\n",
    "forest = RandomForestRegressor(n_estimators = 100, criterion = 'mse', random_state=1,n_jobs = -1)\n",
    "\n",
    "forest.fit(X_train, y_train)\n",
    "y_train_pred = forest.predict(X_train)\n",
    "y_train_pred.mean()"
   ]
  },
  {
   "cell_type": "code",
   "execution_count": 235,
   "metadata": {
    "collapsed": true
   },
   "outputs": [],
   "source": [
    "X25 = X_test[(X_test['evfcf']<=np.percentile(X_test['evfcf'], 25)) & (X_test['revgrowth']>=np.percentile(X_test['revgrowth'], 75))]\n",
    "\n",
    "X100 = X_test[(X_test['evfcf']>=np.percentile(X_test['evfcf'], 75)) & (X_test['revgrowth']<=np.percentile(X_test['revgrowth'], 25))]"
   ]
  },
  {
   "cell_type": "code",
   "execution_count": 236,
   "metadata": {},
   "outputs": [
    {
     "data": {
      "text/plain": [
       "2.5759896075743653"
      ]
     },
     "execution_count": 236,
     "metadata": {},
     "output_type": "execute_result"
    }
   ],
   "source": [
    "y_train_pred = forest.predict(X25)\n",
    "y_train_pred.mean()"
   ]
  },
  {
   "cell_type": "code",
   "execution_count": 237,
   "metadata": {},
   "outputs": [
    {
     "data": {
      "text/plain": [
       "1.3150231718373893"
      ]
     },
     "execution_count": 237,
     "metadata": {},
     "output_type": "execute_result"
    }
   ],
   "source": [
    "y_train_pred = forest.predict(X100)\n",
    "y_train_pred.mean()"
   ]
  },
  {
   "cell_type": "markdown",
   "metadata": {},
   "source": [
    "# Gradiant Boost Regression"
   ]
  },
  {
   "cell_type": "code",
   "execution_count": 238,
   "metadata": {},
   "outputs": [
    {
     "name": "stdout",
     "output_type": "stream",
     "text": [
      "MSE: 3.3522\n"
     ]
    }
   ],
   "source": [
    "import numpy as np\n",
    "import matplotlib.pyplot as plt\n",
    "\n",
    "from sklearn import ensemble\n",
    "from sklearn import datasets\n",
    "from sklearn.utils import shuffle\n",
    "from sklearn.metrics import mean_squared_error\n",
    "\n",
    "\n",
    "X = tablepositive[['evfcf']]\n",
    "\n",
    "Y = tablepositive['performance']\n",
    "\n",
    "from sklearn.model_selection import train_test_split\n",
    "X_train, X_test, y_train, y_test = train_test_split(X,y,test_size = 0.2, random_state = 1)\n",
    "\n",
    "# Fit regression model\n",
    "params = {'n_estimators': 100, 'max_depth': 1, 'min_samples_split': 2,\n",
    "          'learning_rate': .1, 'loss': 'ls','criterion':'friedman_mse'}\n",
    "clf = ensemble.GradientBoostingRegressor(**params)\n",
    "\n",
    "clf.fit(X_train, y_train)\n",
    "mse = mean_squared_error(y_test, clf.predict(X_test))\n",
    "print(\"MSE: %.4f\" % mse)\n",
    "\n",
    "# compute test set deviance\n",
    "test_score = np.zeros((params['n_estimators'],), dtype=np.float64)\n",
    "\n",
    "for i, y_pred in enumerate(clf.staged_predict(X_test)):\n",
    "    test_score[i] = clf.loss_(y_test, y_pred)"
   ]
  },
  {
   "cell_type": "code",
   "execution_count": 239,
   "metadata": {
    "collapsed": true
   },
   "outputs": [],
   "source": [
    "X25 = X_test[(X_test['evfcf']<=np.percentile(X_test['evfcf'], 25))]\n",
    "\n",
    "X100 = X_test[(X_test['evfcf']>=np.percentile(X_test['evfcf'], 75))]"
   ]
  },
  {
   "cell_type": "code",
   "execution_count": 240,
   "metadata": {},
   "outputs": [
    {
     "data": {
      "text/plain": [
       "2.256444457061761"
      ]
     },
     "execution_count": 240,
     "metadata": {},
     "output_type": "execute_result"
    }
   ],
   "source": [
    "y_train_pred = clf.predict(X25)\n",
    "y_train_pred.mean()"
   ]
  },
  {
   "cell_type": "code",
   "execution_count": 241,
   "metadata": {},
   "outputs": [
    {
     "data": {
      "text/plain": [
       "1.6615781093218165"
      ]
     },
     "execution_count": 241,
     "metadata": {},
     "output_type": "execute_result"
    }
   ],
   "source": [
    "y_train_pred = clf.predict(X100)\n",
    "y_train_pred.mean()"
   ]
  },
  {
   "cell_type": "code",
   "execution_count": 242,
   "metadata": {},
   "outputs": [
    {
     "name": "stdout",
     "output_type": "stream",
     "text": [
      "MSE: 3.2179\n"
     ]
    }
   ],
   "source": [
    "import numpy as np\n",
    "import matplotlib.pyplot as plt\n",
    "\n",
    "from sklearn import ensemble\n",
    "from sklearn import datasets\n",
    "from sklearn.utils import shuffle\n",
    "from sklearn.metrics import mean_squared_error\n",
    "\n",
    "X = tablepositive[['evfcf','revgrowth']]\n",
    "\n",
    "Y = tablepositive['performance']\n",
    "\n",
    "from sklearn.model_selection import train_test_split\n",
    "X_train, X_test, y_train, y_test = train_test_split(X,y,test_size = 0.2, random_state = 1)\n",
    "\n",
    "# Fit regression model\n",
    "params = {'n_estimators': 100, 'max_depth': 1, 'min_samples_split': 2,\n",
    "          'learning_rate': .1, 'loss': 'ls','criterion':'friedman_mse'}\n",
    "clf = ensemble.GradientBoostingRegressor(**params)\n",
    "\n",
    "clf.fit(X_train, y_train)\n",
    "mse = mean_squared_error(y_test, clf.predict(X_test))\n",
    "print(\"MSE: %.4f\" % mse)\n",
    "\n",
    "# compute test set deviance\n",
    "\n",
    "#crate empty array\n",
    "test_score = np.zeros((params['n_estimators'],), dtype=np.float64)\n",
    "\n",
    "#fill array with loss per n_estimator\n",
    "for i, y_pred in enumerate(clf.staged_predict(X_test)):\n",
    "    test_score[i] = clf.loss_(y_test, y_pred)"
   ]
  },
  {
   "cell_type": "code",
   "execution_count": 243,
   "metadata": {
    "collapsed": true
   },
   "outputs": [],
   "source": [
    "X25 = X_test[(X_test['evfcf']<np.percentile(X_test['evfcf'], 25)) & (X_test['revgrowth']>np.percentile(X_test['revgrowth'], 75))]\n",
    "\n",
    "X100 = X_test[(X_test['evfcf']>np.percentile(X_test['evfcf'], 75)) & (X_test['revgrowth']<np.percentile(X_test['revgrowth'], 25))]"
   ]
  },
  {
   "cell_type": "code",
   "execution_count": 244,
   "metadata": {},
   "outputs": [
    {
     "data": {
      "text/plain": [
       "2.4992571974550555"
      ]
     },
     "execution_count": 244,
     "metadata": {},
     "output_type": "execute_result"
    }
   ],
   "source": [
    "y_train_pred = clf.predict(X25)\n",
    "y_train_pred.mean()"
   ]
  },
  {
   "cell_type": "code",
   "execution_count": 245,
   "metadata": {},
   "outputs": [
    {
     "data": {
      "text/plain": [
       "1.2930093891979531"
      ]
     },
     "execution_count": 245,
     "metadata": {},
     "output_type": "execute_result"
    }
   ],
   "source": [
    "y_train_pred = clf.predict(X100)\n",
    "y_train_pred.mean()"
   ]
  },
  {
   "cell_type": "code",
   "execution_count": null,
   "metadata": {
    "collapsed": true
   },
   "outputs": [],
   "source": []
  }
 ],
 "metadata": {
  "kernelspec": {
   "display_name": "Python 3",
   "language": "python",
   "name": "python3"
  },
  "language_info": {
   "codemirror_mode": {
    "name": "ipython",
    "version": 3
   },
   "file_extension": ".py",
   "mimetype": "text/x-python",
   "name": "python",
   "nbconvert_exporter": "python",
   "pygments_lexer": "ipython3",
   "version": "3.6.3"
  }
 },
 "nbformat": 4,
 "nbformat_minor": 2
}
