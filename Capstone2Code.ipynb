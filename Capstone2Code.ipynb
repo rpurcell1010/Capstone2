{
 "cells": [
  {
   "cell_type": "code",
   "execution_count": 306,
   "metadata": {},
   "outputs": [],
   "source": [
    "import quandl\n",
    "import sys\n",
    "from configparser import RawConfigParser\n",
    "\n",
    "config = RawConfigParser()\n",
    "file = 'https://raw.githubusercontent.com/rpurcell1010/Capstone2v2/master/config.txt?token=Af6TwDJEOASnRrGMg6zpwvL5ny_svbKlks5bMbjCwA%3D%3D'\n",
    "#config.read_file(open(file))"
   ]
  },
  {
   "cell_type": "code",
   "execution_count": 307,
   "metadata": {},
   "outputs": [],
   "source": [
    "file = 'https://raw.githubusercontent.com/rpurcell1010/Capstone2v2/master/config.csv?token=Af6TwMt8hNEMuCr7h0mpArAS-qRmr-Fpks5bMbhFwA%3D%3D'\n",
    "df = pd.read_csv(file,encoding = \"ISO-8859-1\", low_memory = False)\n",
    "df = pd.read_csv(file,index_col=0,parse_dates=[0])\n",
    "#df['key'].to_string()[11:31]"
   ]
  },
  {
   "cell_type": "code",
   "execution_count": 308,
   "metadata": {
    "collapsed": true
   },
   "outputs": [],
   "source": [
    "import quandl\n",
    "quandl.ApiConfig.api_key = df['key'].to_string()[11:31]"
   ]
  },
  {
   "cell_type": "code",
   "execution_count": null,
   "metadata": {
    "collapsed": true
   },
   "outputs": [],
   "source": []
  },
  {
   "cell_type": "code",
   "execution_count": 309,
   "metadata": {},
   "outputs": [
    {
     "name": "stderr",
     "output_type": "stream",
     "text": [
      "/Users/ryanpurcell/anaconda3/lib/python3.6/site-packages/quandl/get_table.py:38: UserWarning: To request more pages, please set paginate=true in your         quandl.get_table() call. For more information see our documentation:         https://github.com/quandl/quandl-python/blob/master/FOR_ANALYSTS.md#things-to-note\n",
      "  warnings.warn(Message.WARN_PAGE_LIMIT_EXCEEDED, UserWarning)\n"
     ]
    }
   ],
   "source": [
    "REVGROWTH = quandl.get_table('SHARADAR/SF1',calendardate={'lte':'2013-1-28'} ,qopts={'columns':['ticker' ,'dimension','datekey','REVENUE']})\n",
    "\n",
    "REVGROWTH['revgrowth']=REVGROWTH.groupby('ticker')['revenue'].pct_change()\n",
    "REVGROWTH = REVGROWTH.dropna()"
   ]
  },
  {
   "cell_type": "code",
   "execution_count": 310,
   "metadata": {
    "collapsed": true
   },
   "outputs": [],
   "source": [
    "#ADDING CURRENT PRICE TO TABLE\n",
    "\n",
    "table = quandl.get_table('SHARADAR/SF1',calendardate={'lte':'2012-1-28'} ,qopts={'columns':['ticker' ,'dimension','datekey','EVEBITDA','PE1','PS1','PB','ROE','MARKETCAP','PRICE','DEBT','EBITDA','FCF','CASHNEQ','EV','REVENUE']})\n",
    "\n",
    "#create a table 2 with current price concat on ticker\n",
    "\n",
    "table2 = quandl.get_table('SHARADAR/SF1',qopts={'columns':['ticker','dimension','datekey','price'],'latest':1})\n",
    "\n",
    "#concat with table with table2 on ticker\n",
    "\n",
    "tablef = table.merge(table2, left_on='ticker', right_on='ticker', how='inner')\n",
    "tablef['performance'] = tablef['price_y']/tablef['price_x']"
   ]
  },
  {
   "cell_type": "code",
   "execution_count": 311,
   "metadata": {
    "collapsed": true
   },
   "outputs": [],
   "source": [
    "import pandas as pd\n",
    "\n",
    "#CREATE VALUE METRICS\n",
    "\n",
    "tablef = pd.DataFrame(tablef)\n",
    "\n",
    "tablef['evrevenue'] = tablef['ev']/tablef['revenue']\n",
    "tablef['evfcf'] = tablef['ev']/tablef['fcf']"
   ]
  },
  {
   "cell_type": "code",
   "execution_count": 312,
   "metadata": {
    "collapsed": true
   },
   "outputs": [],
   "source": [
    "tablef = tablef[['ticker','evrevenue','evfcf','pb','pe1','ps1','evebitda','performance','datekey_y','price_x']].dropna()"
   ]
  },
  {
   "cell_type": "markdown",
   "metadata": {},
   "source": [
    "# TablePositive only positive ratios. Ratios as of EOY 2011"
   ]
  },
  {
   "cell_type": "code",
   "execution_count": 313,
   "metadata": {
    "collapsed": true
   },
   "outputs": [],
   "source": [
    "#only positive ratios\n",
    "tablepos=tablef[tablef.iloc[:,0:7]>0].iloc[:,0:7].dropna()\n",
    "\n",
    "#merger performance\n",
    "tablepositive = tablepos.merge(tablef[['ticker','performance','datekey_y','price_x']], left_on='ticker', right_on='ticker', how='inner')"
   ]
  },
  {
   "cell_type": "code",
   "execution_count": 314,
   "metadata": {},
   "outputs": [
    {
     "data": {
      "text/plain": [
       "2595"
      ]
     },
     "execution_count": 314,
     "metadata": {},
     "output_type": "execute_result"
    }
   ],
   "source": [
    "len(tablepositive)"
   ]
  },
  {
   "cell_type": "code",
   "execution_count": 315,
   "metadata": {},
   "outputs": [],
   "source": [
    "#BRING IN CURRENT STOCK PRICE\n",
    "\n",
    "import pandas as pd\n",
    "import numpy as np\n",
    "#file = '/Users/ryanpurcell/Desktop/PRICE.csv'\n",
    "file = 'https://raw.githubusercontent.com/rpurcell1010/Capstone2/master/PRICE.csv'\n",
    "df = pd.read_csv(file,encoding = \"ISO-8859-1\", low_memory = False)\n",
    "#df = pd.read_csv(file,index_col=0,parse_dates=[0])"
   ]
  },
  {
   "cell_type": "code",
   "execution_count": 316,
   "metadata": {},
   "outputs": [],
   "source": [
    "tablepositive = tablepositive.merge(df, left_on='ticker', right_on='Ticker', how='inner')"
   ]
  },
  {
   "cell_type": "code",
   "execution_count": 317,
   "metadata": {},
   "outputs": [
    {
     "data": {
      "text/plain": [
       "2579"
      ]
     },
     "execution_count": 317,
     "metadata": {},
     "output_type": "execute_result"
    }
   ],
   "source": [
    "tablepositive\n",
    "tablepositive['performance'] = tablepositive['Price']/tablepositive['price_x']\n",
    "len(tablepositive)"
   ]
  },
  {
   "cell_type": "code",
   "execution_count": 318,
   "metadata": {
    "collapsed": true
   },
   "outputs": [],
   "source": [
    "#remove outlier performance\n",
    "tablepositive = tablepositive.dropna()\n",
    "tablepositive = tablepositive[tablepositive['performance']<2000]"
   ]
  },
  {
   "cell_type": "code",
   "execution_count": 319,
   "metadata": {
    "collapsed": true
   },
   "outputs": [],
   "source": [
    "#add Revenue Growth to TablePositive\n",
    "tablepositive =  tablepositive.merge(REVGROWTH, left_on='ticker', right_on='ticker', how='inner')"
   ]
  },
  {
   "cell_type": "code",
   "execution_count": 320,
   "metadata": {},
   "outputs": [
    {
     "data": {
      "text/html": [
       "<div>\n",
       "<style scoped>\n",
       "    .dataframe tbody tr th:only-of-type {\n",
       "        vertical-align: middle;\n",
       "    }\n",
       "\n",
       "    .dataframe tbody tr th {\n",
       "        vertical-align: top;\n",
       "    }\n",
       "\n",
       "    .dataframe thead th {\n",
       "        text-align: right;\n",
       "    }\n",
       "</style>\n",
       "<table border=\"1\" class=\"dataframe\">\n",
       "  <thead>\n",
       "    <tr style=\"text-align: right;\">\n",
       "      <th></th>\n",
       "      <th>evrevenue</th>\n",
       "      <th>evfcf</th>\n",
       "      <th>pb</th>\n",
       "      <th>pe1</th>\n",
       "      <th>ps1</th>\n",
       "      <th>evebitda</th>\n",
       "      <th>performance</th>\n",
       "      <th>price_x</th>\n",
       "      <th>Price</th>\n",
       "      <th>revenue</th>\n",
       "      <th>revgrowth</th>\n",
       "    </tr>\n",
       "  </thead>\n",
       "  <tbody>\n",
       "    <tr>\n",
       "      <th>performance</th>\n",
       "      <td>-0.041343</td>\n",
       "      <td>-0.007519</td>\n",
       "      <td>-0.012636</td>\n",
       "      <td>-0.02997</td>\n",
       "      <td>-0.036042</td>\n",
       "      <td>0.003068</td>\n",
       "      <td>1.0</td>\n",
       "      <td>-0.028229</td>\n",
       "      <td>0.229144</td>\n",
       "      <td>-0.024208</td>\n",
       "      <td>0.023608</td>\n",
       "    </tr>\n",
       "  </tbody>\n",
       "</table>\n",
       "</div>"
      ],
      "text/plain": [
       "             evrevenue     evfcf        pb      pe1       ps1  evebitda  \\\n",
       "performance  -0.041343 -0.007519 -0.012636 -0.02997 -0.036042  0.003068   \n",
       "\n",
       "             performance   price_x     Price   revenue  revgrowth  \n",
       "performance          1.0 -0.028229  0.229144 -0.024208   0.023608  "
      ]
     },
     "execution_count": 320,
     "metadata": {},
     "output_type": "execute_result"
    }
   ],
   "source": [
    "#indicating slight correlations as expected\n",
    "tablepositive.corr().iloc[6:7,:]"
   ]
  },
  {
   "cell_type": "markdown",
   "metadata": {},
   "source": [
    "Creating Quartiles and comparing quartile performance by group"
   ]
  },
  {
   "cell_type": "markdown",
   "metadata": {},
   "source": [
    "# By Quartile"
   ]
  },
  {
   "cell_type": "code",
   "execution_count": 321,
   "metadata": {
    "collapsed": true
   },
   "outputs": [],
   "source": [
    "#Table Positive by Quartile\n",
    "\n",
    "#Top 25% for each valuation group\n",
    "import numpy as np\n",
    "\n",
    "FILTER4evfcf = tablepositive['evfcf'] > np.percentile(tablepositive['evfcf'], 75)\n",
    "FILTER4evrev = tablepositive['evrevenue'] > np.percentile(tablepositive['evrevenue'], 75)\n",
    "FILTER4pb = tablepositive['pb'] > np.percentile(tablepositive['pb'], 75)\n",
    "FILTER4pe1 = tablepositive['pe1'] > np.percentile(tablepositive['pe1'], 75)\n",
    "FILTER4ps1 = tablepositive['ps1'] > np.percentile(tablepositive['ps1'], 75)\n",
    "FILTER4evebitda = tablepositive['evebitda'] > np.percentile(tablepositive['evebitda'], 75)\n",
    "FILTER4revg = tablepositive['revgrowth'] > np.percentile(tablepositive['revgrowth'], 75)\n",
    "\n",
    "#25% to 50% for each valuation grouping\n",
    "\n",
    "FILTER2evfcf = (tablepositive['evfcf'] > np.percentile(tablepositive['evfcf'], 25)) & (tablepositive['evfcf'] <= np.percentile(tablepositive['evfcf'], 50))\n",
    "FILTER2evrev = (tablepositive['evrevenue'] > np.percentile(tablepositive['evrevenue'], 25)) & (tablepositive['evrevenue'] <= np.percentile(tablepositive['evrevenue'], 50))\n",
    "FILTER2pb = (tablepositive['pb'] > np.percentile(tablepositive['pb'], 25)) & (tablepositive['pb'] <= np.percentile(tablepositive['pb'], 50))\n",
    "FILTER2pe1 = (tablepositive['pe1'] > np.percentile(tablepositive['pe1'], 25)) & (tablepositive['pe1'] <= np.percentile(tablepositive['pe1'], 50))\n",
    "FILTER2ps1 = (tablepositive['ps1'] > np.percentile(tablepositive['ps1'], 25)) & (tablepositive['ps1'] <= np.percentile(tablepositive['ps1'], 50))\n",
    "FILTER2evebitda = (tablepositive['evebitda'] > np.percentile(tablepositive['evebitda'], 25)) & (tablepositive['evebitda'] <= np.percentile(tablepositive['evebitda'], 50))\n",
    "FILTER2revg = (tablepositive['revgrowth'] > np.percentile(tablepositive['revgrowth'], 25)) & (tablepositive['revgrowth'] <= np.percentile(tablepositive['revgrowth'], 50))\n",
    "\n",
    "#50% to 75% for each valuation grouping\n",
    "\n",
    "FILTER3evfcf = (tablepositive['evfcf'] > np.percentile(tablepositive['evfcf'], 50)) & (tablepositive['evfcf'] <= np.percentile(tablepositive['evfcf'], 75))\n",
    "FILTER3evrev = (tablepositive['evrevenue'] > np.percentile(tablepositive['evrevenue'], 50)) & (tablepositive['evrevenue'] <= np.percentile(tablepositive['evrevenue'], 75))\n",
    "FILTER3pb = (tablepositive['pb'] > np.percentile(tablepositive['pb'], 50)) & (tablepositive['pb'] <= np.percentile(tablepositive['pb'], 75))\n",
    "FILTER3pe1 = (tablepositive['pe1'] > np.percentile(tablepositive['pe1'], 50)) & (tablepositive['pe1'] <= np.percentile(tablepositive['pe1'], 75))\n",
    "FILTER3ps1 = (tablepositive['ps1'] > np.percentile(tablepositive['ps1'], 50)) & (tablepositive['ps1'] <= np.percentile(tablepositive['ps1'], 75))\n",
    "FILTER3evebitda = (tablepositive['evebitda'] > np.percentile(tablepositive['evebitda'], 50)) & (tablepositive['evebitda'] <= np.percentile(tablepositive['evebitda'], 75))\n",
    "FILTER3revg = (tablepositive['revgrowth'] > np.percentile(tablepositive['revgrowth'], 50)) & (tablepositive['revgrowth'] <= np.percentile(tablepositive['revgrowth'], 75))\n",
    "\n",
    "#lowest 25% for each valuation grouping\n",
    "\n",
    "FILTERevfcf = tablepositive['evfcf'] <= np.percentile(tablepositive['evfcf'], 25)\n",
    "FILTERevrev = tablepositive['evrevenue'] <= np.percentile(tablepositive['evrevenue'], 25)\n",
    "FILTERpb = tablepositive['pb'] <= np.percentile(tablepositive['pb'], 25)\n",
    "FILTERpe1 = tablepositive['pe1'] <= np.percentile(tablepositive['pe1'], 25)\n",
    "FILTERps1 = tablepositive['ps1'] <= np.percentile(tablepositive['ps1'], 25)\n",
    "FILTERevebitda = tablepositive['evebitda'] <= np.percentile(tablepositive['evebitda'], 25)\n",
    "FILTERrevg = tablepositive['revgrowth'] <= np.percentile(tablepositive['revgrowth'], 25)\n",
    "FILTERrevgfcf = tablepositive['revgrowth'] <= np.percentile(tablepositive['revgrowth'], 25)"
   ]
  },
  {
   "cell_type": "markdown",
   "metadata": {},
   "source": [
    "# Growth and EV/FCF"
   ]
  },
  {
   "cell_type": "code",
   "execution_count": 322,
   "metadata": {},
   "outputs": [
    {
     "name": "stderr",
     "output_type": "stream",
     "text": [
      "/Users/ryanpurcell/anaconda3/lib/python3.6/site-packages/ipykernel_launcher.py:1: UserWarning: Boolean Series key will be reindexed to match DataFrame index.\n",
      "  \"\"\"Entry point for launching an IPython kernel.\n",
      "/Users/ryanpurcell/anaconda3/lib/python3.6/site-packages/seaborn/categorical.py:462: FutureWarning: remove_na is deprecated and is a private function. Do not use.\n",
      "  box_data = remove_na(group_data)\n"
     ]
    },
    {
     "data": {
      "image/png": "[encoded data removed]",
      "text/plain": [
       "<matplotlib.figure.Figure at 0x1a15b02160>"
      ]
     },
     "metadata": {},
     "output_type": "display_data"
    }
   ],
   "source": [
    "Dict1 = {'25': tablepositive[FILTERrevg][FILTER4evfcf].performance, '50' : tablepositive[FILTER2revg][FILTER3evfcf].performance, '75' : tablepositive[FILTER3revg][FILTER2evfcf].performance, '100' :tablepositive[FILTER4revg][FILTERevfcf].performance}\n",
    "df = pd.DataFrame(Dict1)\n",
    "\n",
    "df = df.stack()\n",
    "\n",
    "df= pd.DataFrame(df)\n",
    "df.reset_index(inplace=True)\n",
    "df.columns = ['a','Quartile','Performance']\n",
    "df=df.drop(['a'], axis=1)\n",
    "df['Quartile'] = df['Quartile'].astype('int') \n",
    "\n",
    "filter1 = df['Performance'] < 10\n",
    "\n",
    "import seaborn as sns\n",
    "import matplotlib.pyplot as plt\n",
    "from matplotlib.ticker import FuncFormatter\n",
    "\n",
    "def millions(x, pos):\n",
    "    return '%1.fx' % (x)\n",
    "\n",
    "formatter = FuncFormatter(millions)\n",
    "\n",
    "fig, ax = plt.subplots()\n",
    "ax.yaxis.set_major_formatter(formatter)\n",
    "\n",
    "plt.title(\"Revenue Growth & EV/FCF Performance by Quartile\")\n",
    "sns.boxplot(x=\"Quartile\", y=\"Performance\", data=df[filter1])\n",
    "\n",
    "plt.xticks([0, 1, 2,3], ['1st/4th', '2nd/3rd', '3rd/2nd','4th/1st'])\n",
    "\n",
    "plt.show()"
   ]
  },
  {
   "cell_type": "code",
   "execution_count": 323,
   "metadata": {},
   "outputs": [
    {
     "data": {
      "image/png": "[encoded data removed]",
      "text/plain": [
       "<matplotlib.figure.Figure at 0x1a15af00f0>"
      ]
     },
     "metadata": {},
     "output_type": "display_data"
    }
   ],
   "source": [
    "from matplotlib.ticker import FuncFormatter\n",
    "import matplotlib.pyplot as plt\n",
    "import numpy as np\n",
    "\n",
    "x = np.arange(4)\n",
    "money = [df[df['Quartile']==25]['Performance'].mean(), df[df['Quartile']==50]['Performance'].mean(), df[df['Quartile']==75]['Performance'].mean(), df[df['Quartile']==100]['Performance'].mean()]\n",
    "\n",
    "\n",
    "def millions(x,pos):\n",
    "    return '%1.1fx' % (x)\n",
    "\n",
    "formatter = FuncFormatter(millions)\n",
    "\n",
    "fig, ax = plt.subplots()\n",
    "ax.yaxis.set_major_formatter(formatter)\n",
    "plt.bar(x, money,color='tomato')\n",
    "plt.xticks(x, [25,50,75,100])\n",
    "plt.xlabel(\"Quartile\")\n",
    "plt.ylabel(\"Performance\")\n",
    "plt.title(\"Revenue Growth & EV/FCF Mean Performance by Quartile\")\n",
    "plt.xticks([0, 1, 2,3], ['1st/4th', '2nd/3rd', '3rd/2nd','4th/1st'])\n",
    "plt.show()"
   ]
  },
  {
   "cell_type": "markdown",
   "metadata": {},
   "source": [
    "# Growth"
   ]
  },
  {
   "cell_type": "code",
   "execution_count": 324,
   "metadata": {},
   "outputs": [
    {
     "name": "stderr",
     "output_type": "stream",
     "text": [
      "/Users/ryanpurcell/anaconda3/lib/python3.6/site-packages/seaborn/categorical.py:462: FutureWarning: remove_na is deprecated and is a private function. Do not use.\n",
      "  box_data = remove_na(group_data)\n"
     ]
    },
    {
     "data": {
      "image/png": "[encoded data removed]",
      "text/plain": [
       "<matplotlib.figure.Figure at 0x1a15af0d68>"
      ]
     },
     "metadata": {},
     "output_type": "display_data"
    }
   ],
   "source": [
    "Dict1 = {'25': tablepositive[FILTERrevg].performance, '50' : tablepositive[FILTER2revg].performance, '75' : tablepositive[FILTER3revg].performance, '100' :tablepositive[FILTER4revg].performance}\n",
    "df = pd.DataFrame(Dict1)\n",
    "\n",
    "df = df.stack()\n",
    "\n",
    "df= pd.DataFrame(df)\n",
    "df.reset_index(inplace=True)\n",
    "df.columns = ['a','Quartile','Performance']\n",
    "df=df.drop(['a'], axis=1)\n",
    "df['Quartile'] = df['Quartile'].astype('int') \n",
    "\n",
    "filter1 = df['Performance'] < 10\n",
    "\n",
    "import seaborn as sns\n",
    "import matplotlib.pyplot as plt\n",
    "from matplotlib.ticker import FuncFormatter\n",
    "\n",
    "def millions(x, pos):\n",
    "    return '%1.fx' % (x)\n",
    "\n",
    "formatter = FuncFormatter(millions)\n",
    "\n",
    "fig, ax = plt.subplots()\n",
    "ax.yaxis.set_major_formatter(formatter)\n",
    "\n",
    "plt.title(\"Revenue Growth Performance by Quartile\")\n",
    "sns.boxplot(x=\"Quartile\", y=\"Performance\", data=df[filter1])\n",
    "\n",
    "plt.xticks([0, 1, 2,3], ['1st', '2nd', '3rd','4th'])\n",
    "\n",
    "plt.show()"
   ]
  },
  {
   "cell_type": "code",
   "execution_count": 325,
   "metadata": {},
   "outputs": [
    {
     "data": {
      "image/png": "[encoded data removed]",
      "text/plain": [
       "<matplotlib.figure.Figure at 0x1a16117cf8>"
      ]
     },
     "metadata": {},
     "output_type": "display_data"
    }
   ],
   "source": [
    "from matplotlib.ticker import FuncFormatter\n",
    "import matplotlib.pyplot as plt\n",
    "import numpy as np\n",
    "\n",
    "x = np.arange(4)\n",
    "money = [df[df['Quartile']==25]['Performance'].mean(), df[df['Quartile']==50]['Performance'].mean(), df[df['Quartile']==75]['Performance'].mean(), df[df['Quartile']==100]['Performance'].mean()]\n",
    "\n",
    "\n",
    "def millions(x, pos):\n",
    "    return '%1.1fx' % (x)\n",
    "\n",
    "formatter = FuncFormatter(millions)\n",
    "\n",
    "fig, ax = plt.subplots()\n",
    "ax.yaxis.set_major_formatter(formatter)\n",
    "plt.bar(x, money,color='tomato')\n",
    "plt.xticks(x, [25,50,75,100])\n",
    "plt.xlabel(\"Quartile\")\n",
    "plt.ylabel(\"Performance\")\n",
    "plt.title(\"Revenue Growth Mean Performance by Quartile\")\n",
    "plt.xticks([0, 1, 2,3], ['1st', '2nd', '3rd','4th'])\n",
    "plt.show()"
   ]
  },
  {
   "cell_type": "markdown",
   "metadata": {},
   "source": [
    "# EV / Rev"
   ]
  },
  {
   "cell_type": "code",
   "execution_count": 326,
   "metadata": {},
   "outputs": [
    {
     "name": "stderr",
     "output_type": "stream",
     "text": [
      "/Users/ryanpurcell/anaconda3/lib/python3.6/site-packages/seaborn/categorical.py:462: FutureWarning: remove_na is deprecated and is a private function. Do not use.\n",
      "  box_data = remove_na(group_data)\n"
     ]
    },
    {
     "data": {
      "image/png": "[encoded data removed]",
      "text/plain": [
       "<matplotlib.figure.Figure at 0x1a16113a20>"
      ]
     },
     "metadata": {},
     "output_type": "display_data"
    }
   ],
   "source": [
    "Dict1 = {'25': tablepositive[FILTERevrev].performance, '50' : tablepositive[FILTER2evrev].performance, '75' : tablepositive[FILTER3evrev].performance, '100' :tablepositive[FILTER4evrev].performance}\n",
    "df = pd.DataFrame(Dict1)\n",
    "\n",
    "df = df.stack()\n",
    "\n",
    "df= pd.DataFrame(df)\n",
    "df.reset_index(inplace=True)\n",
    "df.columns = ['a','Quartile','Performance']\n",
    "df=df.drop(['a'], axis=1)\n",
    "df['Quartile'] = df['Quartile'].astype('int') \n",
    "\n",
    "filter1 = df['Performance'] < 10\n",
    "\n",
    "import seaborn as sns\n",
    "import matplotlib.pyplot as plt\n",
    "from matplotlib.ticker import FuncFormatter\n",
    "\n",
    "def millions(x, pos):\n",
    "    return '%1.fx' % (x)\n",
    "\n",
    "formatter = FuncFormatter(millions)\n",
    "\n",
    "fig, ax = plt.subplots()\n",
    "ax.yaxis.set_major_formatter(formatter)\n",
    "\n",
    "plt.title(\"EV/Rev Performance by Quartile\")\n",
    "sns.boxplot(x=\"Quartile\", y=\"Performance\", data=df[filter1])\n",
    "\n",
    "plt.xticks([0, 1, 2,3], ['1st', '2nd', '3rd','4th'])\n",
    "\n",
    "plt.show()"
   ]
  },
  {
   "cell_type": "code",
   "execution_count": 327,
   "metadata": {},
   "outputs": [
    {
     "data": {
      "image/png": "[encoded data removed]",
      "text/plain": [
       "<matplotlib.figure.Figure at 0x1a15af46d8>"
      ]
     },
     "metadata": {},
     "output_type": "display_data"
    }
   ],
   "source": [
    "from matplotlib.ticker import FuncFormatter\n",
    "import matplotlib.pyplot as plt\n",
    "import numpy as np\n",
    "\n",
    "x = np.arange(4)\n",
    "money = [df[df['Quartile']==25]['Performance'].mean(), df[df['Quartile']==50]['Performance'].mean(), df[df['Quartile']==75]['Performance'].mean(), df[df['Quartile']==100]['Performance'].mean()]\n",
    "\n",
    "\n",
    "def millions(x, pos):\n",
    "    return '%1.1fx' % (x)\n",
    "\n",
    "formatter = FuncFormatter(millions)\n",
    "\n",
    "fig, ax = plt.subplots()\n",
    "ax.yaxis.set_major_formatter(formatter)\n",
    "plt.bar(x, money,color='tomato')\n",
    "plt.xticks(x, [25,50,75,100])\n",
    "plt.xlabel(\"Quartile\")\n",
    "plt.ylabel(\"Performance\")\n",
    "plt.title(\"EV/Revenue Mean Performance by Quartile\")\n",
    "plt.xticks([0, 1, 2,3], ['1st', '2nd', '3rd','4th'])\n",
    "plt.show()"
   ]
  },
  {
   "cell_type": "code",
   "execution_count": 328,
   "metadata": {},
   "outputs": [
    {
     "data": {
      "text/plain": [
       "Ttest_indResult(statistic=-1.378236712887561, pvalue=0.16843818825768536)"
      ]
     },
     "execution_count": 328,
     "metadata": {},
     "output_type": "execute_result"
    }
   ],
   "source": [
    "#t-test comparing top 25 to bottom 25\n",
    "\n",
    "import scipy.stats as st\n",
    "\n",
    "pf = df[df['Quartile']==25]['Performance']\n",
    "\n",
    "pf1 = df[df['Quartile']==100]['Performance']\n",
    "\n",
    "st.ttest_ind(pf1,pf)\n"
   ]
  },
  {
   "cell_type": "markdown",
   "metadata": {},
   "source": [
    "# ev / fcf"
   ]
  },
  {
   "cell_type": "code",
   "execution_count": 329,
   "metadata": {},
   "outputs": [
    {
     "name": "stderr",
     "output_type": "stream",
     "text": [
      "/Users/ryanpurcell/anaconda3/lib/python3.6/site-packages/seaborn/categorical.py:462: FutureWarning: remove_na is deprecated and is a private function. Do not use.\n",
      "  box_data = remove_na(group_data)\n"
     ]
    },
    {
     "data": {
      "image/png": "[encoded data removed]",
      "text/plain": [
       "<matplotlib.figure.Figure at 0x1a16109cc0>"
      ]
     },
     "metadata": {},
     "output_type": "display_data"
    }
   ],
   "source": [
    "Dict1 = {'25': tablepositive[FILTERevfcf].performance, '50' : tablepositive[FILTER2evfcf].performance, '75' : tablepositive[FILTER3evfcf].performance, '100' :tablepositive[FILTER4evfcf].performance}\n",
    "df = pd.DataFrame(Dict1)\n",
    "\n",
    "df = df.stack()\n",
    "\n",
    "df= pd.DataFrame(df)\n",
    "df.reset_index(inplace=True)\n",
    "df.columns = ['a','Quartile','Performance']\n",
    "df=df.drop(['a'], axis=1)\n",
    "df['Quartile'] = df['Quartile'].astype('int') \n",
    "\n",
    "filter1 = df['Performance'] < 10\n",
    "\n",
    "import seaborn as sns\n",
    "\n",
    "def millions(x, pos):\n",
    "    return '%1.fx' % (x)\n",
    "\n",
    "formatter = FuncFormatter(millions)\n",
    "\n",
    "fig, ax = plt.subplots()\n",
    "ax.yaxis.set_major_formatter(formatter)\n",
    "\n",
    "plt.title(\"EV/FCF Performance by Quartile\")\n",
    "sns.boxplot(x=\"Quartile\", y=\"Performance\", data=df[filter1])\n",
    "plt.xticks([0, 1, 2,3], ['1st', '2nd', '3rd','4th'])\n",
    "plt.show()"
   ]
  },
  {
   "cell_type": "code",
   "execution_count": 330,
   "metadata": {},
   "outputs": [
    {
     "data": {
      "text/plain": [
       "2.275491514013809"
      ]
     },
     "execution_count": 330,
     "metadata": {},
     "output_type": "execute_result"
    }
   ],
   "source": [
    "df[df['Quartile']==25]['Performance'].mean()"
   ]
  },
  {
   "cell_type": "code",
   "execution_count": 331,
   "metadata": {},
   "outputs": [
    {
     "data": {
      "text/plain": [
       "1.6627283101325983"
      ]
     },
     "execution_count": 331,
     "metadata": {},
     "output_type": "execute_result"
    }
   ],
   "source": [
    "df[df['Quartile']==100]['Performance'].mean()"
   ]
  },
  {
   "cell_type": "code",
   "execution_count": 332,
   "metadata": {},
   "outputs": [
    {
     "data": {
      "text/plain": [
       "1.8553467176929408"
      ]
     },
     "execution_count": 332,
     "metadata": {},
     "output_type": "execute_result"
    }
   ],
   "source": [
    "df[df['Quartile']==25]['Performance'].median()"
   ]
  },
  {
   "cell_type": "code",
   "execution_count": 333,
   "metadata": {},
   "outputs": [
    {
     "data": {
      "text/plain": [
       "1.251472320376914"
      ]
     },
     "execution_count": 333,
     "metadata": {},
     "output_type": "execute_result"
    }
   ],
   "source": [
    "df[df['Quartile']==100]['Performance'].median()"
   ]
  },
  {
   "cell_type": "code",
   "execution_count": 334,
   "metadata": {},
   "outputs": [
    {
     "data": {
      "image/png": "[encoded data removed]",
      "text/plain": [
       "<matplotlib.figure.Figure at 0x1a15f224a8>"
      ]
     },
     "metadata": {},
     "output_type": "display_data"
    }
   ],
   "source": [
    "from matplotlib.ticker import FuncFormatter\n",
    "import matplotlib.pyplot as plt\n",
    "import numpy as np\n",
    "\n",
    "x = np.arange(4)\n",
    "money = [df[df['Quartile']==25]['Performance'].mean(), df[df['Quartile']==50]['Performance'].mean(), df[df['Quartile']==75]['Performance'].mean(), df[df['Quartile']==100]['Performance'].mean()]\n",
    "\n",
    "\n",
    "def millions(x, pos):\n",
    "    return '%1.1fx' % (x)\n",
    "\n",
    "formatter = FuncFormatter(millions)\n",
    "\n",
    "fig, ax = plt.subplots()\n",
    "ax.yaxis.set_major_formatter(formatter)\n",
    "plt.bar(x, money,color='tomato')\n",
    "plt.xticks(x, [25,50,75,100])\n",
    "plt.xlabel(\"Quartile\")\n",
    "plt.ylabel(\"Performance\")\n",
    "plt.title(\"EV/FCF Mean Performance by Quartile\")\n",
    "plt.xticks([0, 1, 2,3], ['1st', '2nd', '3rd','4th'])\n",
    "plt.show()"
   ]
  },
  {
   "cell_type": "code",
   "execution_count": 335,
   "metadata": {},
   "outputs": [
    {
     "data": {
      "text/plain": [
       "Ttest_indResult(statistic=-4.2522117133442654, pvalue=2.3147862603444186e-05)"
      ]
     },
     "execution_count": 335,
     "metadata": {},
     "output_type": "execute_result"
    }
   ],
   "source": [
    "import scipy.stats as st\n",
    "\n",
    "pf = df[df['Quartile']==25]['Performance']\n",
    "\n",
    "pf1 = df[df['Quartile']==100]['Performance']\n",
    "\n",
    "st.ttest_ind(pf1,pf)"
   ]
  },
  {
   "cell_type": "markdown",
   "metadata": {},
   "source": [
    "# pb"
   ]
  },
  {
   "cell_type": "code",
   "execution_count": 336,
   "metadata": {},
   "outputs": [
    {
     "name": "stderr",
     "output_type": "stream",
     "text": [
      "/Users/ryanpurcell/anaconda3/lib/python3.6/site-packages/seaborn/categorical.py:462: FutureWarning: remove_na is deprecated and is a private function. Do not use.\n",
      "  box_data = remove_na(group_data)\n"
     ]
    },
    {
     "data": {
      "image/png": "[encoded data removed]",
      "text/plain": [
       "<matplotlib.figure.Figure at 0x1a15af4b38>"
      ]
     },
     "metadata": {},
     "output_type": "display_data"
    }
   ],
   "source": [
    "Dict1 = {'25': tablepositive[FILTERpb].performance, '50' : tablepositive[FILTER2pb].performance, '75' : tablepositive[FILTER3pb].performance, '100' :tablepositive[FILTER4pb].performance}\n",
    "df = pd.DataFrame(Dict1)\n",
    "\n",
    "df = df.stack()\n",
    "\n",
    "df= pd.DataFrame(df)\n",
    "df.reset_index(inplace=True)\n",
    "df.columns = ['a','Quartile','Performance']\n",
    "df=df.drop(['a'], axis=1)\n",
    "df['Quartile'] = df['Quartile'].astype('int') \n",
    "\n",
    "filter1 = df['Performance'] < 10\n",
    "\n",
    "import seaborn as sns\n",
    "\n",
    "def millions(x, pos):\n",
    "    return '%1.fx' % (x)\n",
    "\n",
    "formatter = FuncFormatter(millions)\n",
    "\n",
    "fig, ax = plt.subplots()\n",
    "ax.yaxis.set_major_formatter(formatter)\n",
    "\n",
    "plt.title(\"P/B Performance by Quartile\")\n",
    "sns.boxplot(x=\"Quartile\", y=\"Performance\", data=df[filter1])\n",
    "plt.xticks([0, 1, 2,3], ['1st', '2nd', '3rd','4th'])\n",
    "plt.show()"
   ]
  },
  {
   "cell_type": "code",
   "execution_count": 337,
   "metadata": {},
   "outputs": [
    {
     "data": {
      "image/png": "[encoded data removed]",
      "text/plain": [
       "<matplotlib.figure.Figure at 0x10c972b38>"
      ]
     },
     "metadata": {},
     "output_type": "display_data"
    }
   ],
   "source": [
    "from matplotlib.ticker import FuncFormatter\n",
    "import matplotlib.pyplot as plt\n",
    "import numpy as np\n",
    "\n",
    "x = np.arange(4)\n",
    "money = [df[df['Quartile']==25]['Performance'].mean(), df[df['Quartile']==50]['Performance'].mean(), df[df['Quartile']==75]['Performance'].mean(), df[df['Quartile']==100]['Performance'].mean()]\n",
    "\n",
    "\n",
    "def millions(x, pos):\n",
    "    return '%1.1fx' % (x)\n",
    "\n",
    "formatter = FuncFormatter(millions)\n",
    "\n",
    "fig, ax = plt.subplots()\n",
    "ax.yaxis.set_major_formatter(formatter)\n",
    "plt.bar(x, money,color='tomato')\n",
    "plt.xticks(x, [25,50,75,100])\n",
    "plt.xlabel(\"Quartile\")\n",
    "plt.ylabel(\"Performance\")\n",
    "plt.title(\"P/B Mean Performance by Quartile\")\n",
    "plt.xticks([0, 1, 2,3], ['1st', '2nd', '3rd','4th'])\n",
    "plt.show()"
   ]
  },
  {
   "cell_type": "code",
   "execution_count": 338,
   "metadata": {},
   "outputs": [
    {
     "data": {
      "text/plain": [
       "Ttest_indResult(statistic=-2.4812433434841124, pvalue=0.013255618050857808)"
      ]
     },
     "execution_count": 338,
     "metadata": {},
     "output_type": "execute_result"
    }
   ],
   "source": [
    "import scipy.stats as st\n",
    "\n",
    "pf = df[df['Quartile']==25]['Performance']\n",
    "\n",
    "pf1 = df[df['Quartile']==100]['Performance']\n",
    "\n",
    "st.ttest_ind(pf1,pf)"
   ]
  },
  {
   "cell_type": "markdown",
   "metadata": {},
   "source": [
    "# pe1"
   ]
  },
  {
   "cell_type": "code",
   "execution_count": 339,
   "metadata": {},
   "outputs": [
    {
     "name": "stderr",
     "output_type": "stream",
     "text": [
      "/Users/ryanpurcell/anaconda3/lib/python3.6/site-packages/seaborn/categorical.py:462: FutureWarning: remove_na is deprecated and is a private function. Do not use.\n",
      "  box_data = remove_na(group_data)\n"
     ]
    },
    {
     "data": {
      "image/png": "[encoded data removed]",
      "text/plain": [
       "<matplotlib.figure.Figure at 0x1a15f7a0f0>"
      ]
     },
     "metadata": {},
     "output_type": "display_data"
    }
   ],
   "source": [
    "Dict1 = {'25': tablepositive[FILTERpe1].performance, '50' : tablepositive[FILTER2pe1].performance, '75' : tablepositive[FILTER3pe1].performance, '100' :tablepositive[FILTER4pe1].performance}\n",
    "df = pd.DataFrame(Dict1)\n",
    "\n",
    "df = df.stack()\n",
    "\n",
    "df= pd.DataFrame(df)\n",
    "df.reset_index(inplace=True)\n",
    "df.columns = ['a','Quartile','Performance']\n",
    "df=df.drop(['a'], axis=1)\n",
    "df['Quartile'] = df['Quartile'].astype('int') \n",
    "\n",
    "filter1 = df['Performance'] < 10\n",
    "\n",
    "import seaborn as sns\n",
    "\n",
    "def millions(x, pos):\n",
    "    return '%1.fx' % (x)\n",
    "\n",
    "formatter = FuncFormatter(millions)\n",
    "\n",
    "fig, ax = plt.subplots()\n",
    "ax.yaxis.set_major_formatter(formatter)\n",
    "\n",
    "plt.title(\"P/E Performance by Quartile\")\n",
    "sns.boxplot(x=\"Quartile\", y=\"Performance\", data=df[filter1])\n",
    "plt.xticks([0, 1, 2,3], ['1st', '2nd', '3rd','4th'])\n",
    "plt.show()"
   ]
  },
  {
   "cell_type": "code",
   "execution_count": 340,
   "metadata": {},
   "outputs": [
    {
     "data": {
      "image/png": "[encoded data removed]",
      "text/plain": [
       "<matplotlib.figure.Figure at 0x10c975f60>"
      ]
     },
     "metadata": {},
     "output_type": "display_data"
    }
   ],
   "source": [
    "from matplotlib.ticker import FuncFormatter\n",
    "import matplotlib.pyplot as plt\n",
    "import numpy as np\n",
    "\n",
    "x = np.arange(4)\n",
    "money = [df[df['Quartile']==25]['Performance'].mean(), df[df['Quartile']==50]['Performance'].mean(), df[df['Quartile']==75]['Performance'].mean(), df[df['Quartile']==100]['Performance'].mean()]\n",
    "\n",
    "\n",
    "def millions(x, pos):\n",
    "    return '%1.1fx' % (x)\n",
    "\n",
    "formatter = FuncFormatter(millions)\n",
    "\n",
    "fig, ax = plt.subplots()\n",
    "ax.yaxis.set_major_formatter(formatter)\n",
    "plt.bar(x, money,color='tomato')\n",
    "plt.xticks(x, [25,50,75,100])\n",
    "plt.xlabel(\"Quartile\")\n",
    "plt.ylabel(\"Performance\")\n",
    "plt.title(\"P/E Mean Performance by Quartile\")\n",
    "plt.xticks([0, 1, 2,3], ['1st', '2nd', '3rd','4th'])\n",
    "plt.show()"
   ]
  },
  {
   "cell_type": "code",
   "execution_count": 341,
   "metadata": {},
   "outputs": [
    {
     "data": {
      "text/plain": [
       "Ttest_indResult(statistic=-1.8192514277331089, pvalue=0.069171720447741322)"
      ]
     },
     "execution_count": 341,
     "metadata": {},
     "output_type": "execute_result"
    }
   ],
   "source": [
    "import scipy.stats as st\n",
    "\n",
    "pf = df[df['Quartile']==25]['Performance']\n",
    "\n",
    "pf1 = df[df['Quartile']==100]['Performance']\n",
    "\n",
    "st.ttest_ind(pf1,pf)"
   ]
  },
  {
   "cell_type": "markdown",
   "metadata": {},
   "source": [
    "# ps1"
   ]
  },
  {
   "cell_type": "code",
   "execution_count": 342,
   "metadata": {},
   "outputs": [
    {
     "name": "stderr",
     "output_type": "stream",
     "text": [
      "/Users/ryanpurcell/anaconda3/lib/python3.6/site-packages/seaborn/categorical.py:462: FutureWarning: remove_na is deprecated and is a private function. Do not use.\n",
      "  box_data = remove_na(group_data)\n"
     ]
    },
    {
     "data": {
      "image/png": "[encoded data removed]",
      "text/plain": [
       "<matplotlib.figure.Figure at 0x10c96d7f0>"
      ]
     },
     "metadata": {},
     "output_type": "display_data"
    }
   ],
   "source": [
    "Dict1 = {'25': tablepositive[FILTERps1].performance, '50' : tablepositive[FILTER2ps1].performance, '75' : tablepositive[FILTER3ps1].performance, '100' :tablepositive[FILTER4ps1].performance}\n",
    "df = pd.DataFrame(Dict1)\n",
    "df = df.stack()\n",
    "\n",
    "df= pd.DataFrame(df)\n",
    "df.reset_index(inplace=True)\n",
    "df.columns = ['a','Quartile','Performance']\n",
    "df['Quartile'] = df['Quartile'].astype('int') \n",
    "df=df.drop(['a'], axis=1)\n",
    "order = sorted(df.Quartile.unique())\n",
    "\n",
    "filter1 = df['Performance'] < 10\n",
    "\n",
    "\n",
    "import seaborn as sns\n",
    "\n",
    "def millions(x, pos):\n",
    "    return '%1.fx' % (x)\n",
    "\n",
    "formatter = FuncFormatter(millions)\n",
    "\n",
    "fig, ax = plt.subplots()\n",
    "ax.yaxis.set_major_formatter(formatter)\n",
    "\n",
    "plt.title(\"P/S Performance by Quartile\")\n",
    "sns.boxplot(x=\"Quartile\", y=\"Performance\",order=order,data=df[filter1])\n",
    "plt.xticks([0, 1, 2,3], ['1st', '2nd', '3rd','4th'])\n",
    "plt.show()"
   ]
  },
  {
   "cell_type": "code",
   "execution_count": 343,
   "metadata": {},
   "outputs": [
    {
     "data": {
      "image/png": "[encoded data removed]",
      "text/plain": [
       "<matplotlib.figure.Figure at 0x10ae52f98>"
      ]
     },
     "metadata": {},
     "output_type": "display_data"
    }
   ],
   "source": [
    "from matplotlib.ticker import FuncFormatter\n",
    "import matplotlib.pyplot as plt\n",
    "import numpy as np\n",
    "\n",
    "x = np.arange(4)\n",
    "money = [df[df['Quartile']==25]['Performance'].mean(), df[df['Quartile']==50]['Performance'].mean(), df[df['Quartile']==75]['Performance'].mean(), df[df['Quartile']==100]['Performance'].mean()]\n",
    "\n",
    "\n",
    "def millions(x, pos):\n",
    "    return '%1.1fx' % (x)\n",
    "\n",
    "formatter = FuncFormatter(millions)\n",
    "\n",
    "fig, ax = plt.subplots()\n",
    "ax.yaxis.set_major_formatter(formatter)\n",
    "plt.bar(x, money,color='tomato')\n",
    "plt.xticks(x, [25,50,75,100])\n",
    "plt.xlabel(\"Quartile\")\n",
    "plt.ylabel(\"Performance\")\n",
    "plt.title(\"P/S Mean Performance by Quartile\")\n",
    "plt.xticks([0, 1, 2,3], ['1st', '2nd', '3rd','4th'])\n",
    "plt.show()"
   ]
  },
  {
   "cell_type": "code",
   "execution_count": 344,
   "metadata": {},
   "outputs": [
    {
     "data": {
      "text/plain": [
       "Ttest_indResult(statistic=-3.7208694112624756, pvalue=0.00020957362609059566)"
      ]
     },
     "execution_count": 344,
     "metadata": {},
     "output_type": "execute_result"
    }
   ],
   "source": [
    "import scipy.stats as st\n",
    "\n",
    "pf = df[df['Quartile']==25]['Performance']\n",
    "\n",
    "pf1 = df[df['Quartile']==100]['Performance']\n",
    "\n",
    "st.ttest_ind(pf1,pf)"
   ]
  },
  {
   "cell_type": "markdown",
   "metadata": {},
   "source": [
    "# ev / ebitda"
   ]
  },
  {
   "cell_type": "code",
   "execution_count": 345,
   "metadata": {},
   "outputs": [
    {
     "name": "stderr",
     "output_type": "stream",
     "text": [
      "/Users/ryanpurcell/anaconda3/lib/python3.6/site-packages/seaborn/categorical.py:462: FutureWarning: remove_na is deprecated and is a private function. Do not use.\n",
      "  box_data = remove_na(group_data)\n"
     ]
    },
    {
     "data": {
      "image/png": "[encoded data removed]",
      "text/plain": [
       "<matplotlib.figure.Figure at 0x1a132832b0>"
      ]
     },
     "metadata": {},
     "output_type": "display_data"
    }
   ],
   "source": [
    "Dict1 = {'25': tablepositive[FILTERevebitda].performance, '50' : tablepositive[FILTER2evebitda].performance, '75' : tablepositive[FILTER3evebitda].performance, '100' :tablepositive[FILTER4evebitda].performance}\n",
    "df = pd.DataFrame(Dict1)\n",
    "\n",
    "df = df.stack()\n",
    "\n",
    "df= pd.DataFrame(df)\n",
    "df.reset_index(inplace=True)\n",
    "df.columns = ['a','Quartile','Performance']\n",
    "df=df.drop(['a'], axis=1)\n",
    "df['Quartile'] = df['Quartile'].astype('int') \n",
    "\n",
    "\n",
    "filter1 = df['Performance'] < 10\n",
    "\n",
    "\n",
    "import seaborn as sns\n",
    "\n",
    "def millions(x, pos):\n",
    "    return '%1.fx' % (x)\n",
    "\n",
    "formatter = FuncFormatter(millions)\n",
    "\n",
    "fig, ax = plt.subplots()\n",
    "ax.yaxis.set_major_formatter(formatter)\n",
    "\n",
    "plt.title(\"EV/EBITDA Performance by Quartile\")\n",
    "sns.boxplot(x=\"Quartile\", y=\"Performance\", data=df[filter1])\n",
    "plt.xticks([0, 1, 2,3], ['1st', '2nd', '3rd','4th'])\n",
    "plt.show()"
   ]
  },
  {
   "cell_type": "code",
   "execution_count": 346,
   "metadata": {},
   "outputs": [
    {
     "data": {
      "image/png": "[encoded data removed]",
      "text/plain": [
       "<matplotlib.figure.Figure at 0x10ad879e8>"
      ]
     },
     "metadata": {},
     "output_type": "display_data"
    }
   ],
   "source": [
    "from matplotlib.ticker import FuncFormatter\n",
    "import matplotlib.pyplot as plt\n",
    "import numpy as np\n",
    "\n",
    "x = np.arange(4)\n",
    "money = [df[df['Quartile']==25]['Performance'].mean(), df[df['Quartile']==50]['Performance'].mean(), df[df['Quartile']==75]['Performance'].mean(), df[df['Quartile']==100]['Performance'].mean()]\n",
    "\n",
    "\n",
    "def millions(x, pos):\n",
    "    return '%1.1fx' % (x)\n",
    "\n",
    "formatter = FuncFormatter(millions)\n",
    "\n",
    "fig, ax = plt.subplots()\n",
    "ax.yaxis.set_major_formatter(formatter)\n",
    "plt.bar(x, money,color='tomato')\n",
    "plt.xticks(x, [25,50,75,100])\n",
    "plt.xlabel(\"Quartile\")\n",
    "plt.ylabel(\"Performance\")\n",
    "plt.title(\"EV/EBITDA Mean Performance by Quartile\")\n",
    "plt.xticks([0, 1, 2,3], ['1st', '2nd', '3rd','4th'])\n",
    "\n",
    "plt.show()"
   ]
  },
  {
   "cell_type": "code",
   "execution_count": 347,
   "metadata": {},
   "outputs": [
    {
     "data": {
      "text/plain": [
       "Ttest_indResult(statistic=-0.98437325287290045, pvalue=0.32516988805529656)"
      ]
     },
     "execution_count": 347,
     "metadata": {},
     "output_type": "execute_result"
    }
   ],
   "source": [
    "import scipy.stats as st\n",
    "\n",
    "pf = df[df['Quartile']==25]['Performance']\n",
    "\n",
    "pf1 = df[df['Quartile']==100]['Performance']\n",
    "\n",
    "st.ttest_ind(pf1,pf)"
   ]
  },
  {
   "cell_type": "markdown",
   "metadata": {},
   "source": [
    "# Random Forest Regression"
   ]
  },
  {
   "cell_type": "code",
   "execution_count": 348,
   "metadata": {},
   "outputs": [
    {
     "data": {
      "text/plain": [
       "1.9726469301847851"
      ]
     },
     "execution_count": 348,
     "metadata": {},
     "output_type": "execute_result"
    }
   ],
   "source": [
    "X = tablepositive[['evfcf']]\n",
    "y = tablepositive['performance']\n",
    "\n",
    "from sklearn.model_selection import train_test_split\n",
    "X_train, X_test, y_train, y_test = train_test_split(X,y,test_size = 0.2, random_state = 1)\n",
    "\n",
    "from sklearn.ensemble import RandomForestRegressor\n",
    "forest = RandomForestRegressor(n_estimators = 100, criterion = 'mse', random_state=1,n_jobs = -1)\n",
    "\n",
    "forest.fit(X_train, y_train)\n",
    "y_train_pred = forest.predict(X_train)\n",
    "y_train_pred.mean()"
   ]
  },
  {
   "cell_type": "code",
   "execution_count": 349,
   "metadata": {
    "collapsed": true
   },
   "outputs": [],
   "source": [
    "X25 = X_test[(X_test['evfcf']<=np.percentile(X_test['evfcf'], 25))]\n",
    "\n",
    "X100 = X_test[(X_test['evfcf']>=np.percentile(X_test['evfcf'], 75))]"
   ]
  },
  {
   "cell_type": "code",
   "execution_count": 350,
   "metadata": {},
   "outputs": [
    {
     "data": {
      "text/plain": [
       "2.2205077667708966"
      ]
     },
     "execution_count": 350,
     "metadata": {},
     "output_type": "execute_result"
    }
   ],
   "source": [
    "y_train_pred = forest.predict(X25)\n",
    "y_train_pred.mean()"
   ]
  },
  {
   "cell_type": "code",
   "execution_count": 351,
   "metadata": {},
   "outputs": [
    {
     "data": {
      "text/plain": [
       "1.6179079933347613"
      ]
     },
     "execution_count": 351,
     "metadata": {},
     "output_type": "execute_result"
    }
   ],
   "source": [
    "y_train_pred = forest.predict(X100)\n",
    "y_train_pred.mean()"
   ]
  },
  {
   "cell_type": "code",
   "execution_count": 352,
   "metadata": {},
   "outputs": [
    {
     "data": {
      "text/plain": [
       "1.9874959555619089"
      ]
     },
     "execution_count": 352,
     "metadata": {},
     "output_type": "execute_result"
    }
   ],
   "source": [
    "X = tablepositive[['evfcf','revgrowth']]\n",
    "y = tablepositive['performance']\n",
    "\n",
    "from sklearn.model_selection import train_test_split\n",
    "X_train, X_test, y_train, y_test = train_test_split(X,y,test_size = 0.2, random_state = 1)\n",
    "\n",
    "from sklearn.ensemble import RandomForestRegressor\n",
    "forest = RandomForestRegressor(n_estimators = 100, criterion = 'mse', random_state=1,n_jobs = -1)\n",
    "\n",
    "forest.fit(X_train, y_train)\n",
    "y_train_pred = forest.predict(X_train)\n",
    "y_train_pred.mean()"
   ]
  },
  {
   "cell_type": "code",
   "execution_count": 353,
   "metadata": {
    "collapsed": true
   },
   "outputs": [],
   "source": [
    "X25 = X_test[(X_test['evfcf']<=np.percentile(X_test['evfcf'], 25)) & (X_test['revgrowth']>=np.percentile(X_test['revgrowth'], 75))]\n",
    "\n",
    "X100 = X_test[(X_test['evfcf']>=np.percentile(X_test['evfcf'], 75)) & (X_test['revgrowth']<=np.percentile(X_test['revgrowth'], 25))]"
   ]
  },
  {
   "cell_type": "code",
   "execution_count": 354,
   "metadata": {},
   "outputs": [
    {
     "data": {
      "text/plain": [
       "2.5720337756116143"
      ]
     },
     "execution_count": 354,
     "metadata": {},
     "output_type": "execute_result"
    }
   ],
   "source": [
    "y_train_pred = forest.predict(X25)\n",
    "y_train_pred.mean()"
   ]
  },
  {
   "cell_type": "code",
   "execution_count": 355,
   "metadata": {},
   "outputs": [
    {
     "data": {
      "text/plain": [
       "1.2725125715803765"
      ]
     },
     "execution_count": 355,
     "metadata": {},
     "output_type": "execute_result"
    }
   ],
   "source": [
    "y_train_pred = forest.predict(X100)\n",
    "y_train_pred.mean()"
   ]
  },
  {
   "cell_type": "markdown",
   "metadata": {},
   "source": [
    "# Gradiant Boost Regression"
   ]
  },
  {
   "cell_type": "code",
   "execution_count": 356,
   "metadata": {},
   "outputs": [
    {
     "name": "stdout",
     "output_type": "stream",
     "text": [
      "MSE: 3.3549\n"
     ]
    }
   ],
   "source": [
    "import numpy as np\n",
    "import matplotlib.pyplot as plt\n",
    "\n",
    "from sklearn import ensemble\n",
    "from sklearn import datasets\n",
    "from sklearn.utils import shuffle\n",
    "from sklearn.metrics import mean_squared_error\n",
    "\n",
    "\n",
    "X = tablepositive[['evfcf']]\n",
    "\n",
    "Y = tablepositive['performance']\n",
    "\n",
    "from sklearn.model_selection import train_test_split\n",
    "X_train, X_test, y_train, y_test = train_test_split(X,y,test_size = 0.2, random_state = 1)\n",
    "\n",
    "# Fit regression model\n",
    "params = {'n_estimators': 100, 'max_depth': 1, 'min_samples_split': 2,\n",
    "          'learning_rate': .1, 'loss': 'ls','criterion':'friedman_mse'}\n",
    "clf = ensemble.GradientBoostingRegressor(**params)\n",
    "\n",
    "clf.fit(X_train, y_train)\n",
    "mse = mean_squared_error(y_test, clf.predict(X_test))\n",
    "print(\"MSE: %.4f\" % mse)\n",
    "\n",
    "# compute test set deviance\n",
    "test_score = np.zeros((params['n_estimators'],), dtype=np.float64)\n",
    "\n",
    "for i, y_pred in enumerate(clf.staged_predict(X_test)):\n",
    "    test_score[i] = clf.loss_(y_test, y_pred)"
   ]
  },
  {
   "cell_type": "code",
   "execution_count": 357,
   "metadata": {
    "collapsed": true
   },
   "outputs": [],
   "source": [
    "X25 = X_test[(X_test['evfcf']<=np.percentile(X_test['evfcf'], 25))]\n",
    "\n",
    "X100 = X_test[(X_test['evfcf']>=np.percentile(X_test['evfcf'], 75))]"
   ]
  },
  {
   "cell_type": "code",
   "execution_count": 358,
   "metadata": {},
   "outputs": [
    {
     "data": {
      "text/plain": [
       "2.2675637730790426"
      ]
     },
     "execution_count": 358,
     "metadata": {},
     "output_type": "execute_result"
    }
   ],
   "source": [
    "y_train_pred = clf.predict(X25)\n",
    "y_train_pred.mean()"
   ]
  },
  {
   "cell_type": "code",
   "execution_count": 359,
   "metadata": {},
   "outputs": [
    {
     "data": {
      "text/plain": [
       "1.6747276502087929"
      ]
     },
     "execution_count": 359,
     "metadata": {},
     "output_type": "execute_result"
    }
   ],
   "source": [
    "y_train_pred = clf.predict(X100)\n",
    "y_train_pred.mean()"
   ]
  },
  {
   "cell_type": "code",
   "execution_count": 360,
   "metadata": {},
   "outputs": [
    {
     "name": "stdout",
     "output_type": "stream",
     "text": [
      "MSE: 3.1976\n"
     ]
    }
   ],
   "source": [
    "import numpy as np\n",
    "import matplotlib.pyplot as plt\n",
    "\n",
    "from sklearn import ensemble\n",
    "from sklearn import datasets\n",
    "from sklearn.utils import shuffle\n",
    "from sklearn.metrics import mean_squared_error\n",
    "\n",
    "X = tablepositive[['evfcf','revgrowth']]\n",
    "\n",
    "Y = tablepositive['performance']\n",
    "\n",
    "from sklearn.model_selection import train_test_split\n",
    "X_train, X_test, y_train, y_test = train_test_split(X,y,test_size = 0.2, random_state = 1)\n",
    "\n",
    "# Fit regression model\n",
    "params = {'n_estimators': 100, 'max_depth': 1, 'min_samples_split': 2,\n",
    "          'learning_rate': .1, 'loss': 'ls','criterion':'friedman_mse'}\n",
    "clf = ensemble.GradientBoostingRegressor(**params)\n",
    "\n",
    "clf.fit(X_train, y_train)\n",
    "mse = mean_squared_error(y_test, clf.predict(X_test))\n",
    "print(\"MSE: %.4f\" % mse)\n",
    "\n",
    "# compute test set deviance\n",
    "\n",
    "#crate empty array\n",
    "test_score = np.zeros((params['n_estimators'],), dtype=np.float64)\n",
    "\n",
    "#fill array with loss per n_estimator\n",
    "for i, y_pred in enumerate(clf.staged_predict(X_test)):\n",
    "    test_score[i] = clf.loss_(y_test, y_pred)"
   ]
  },
  {
   "cell_type": "code",
   "execution_count": 361,
   "metadata": {
    "collapsed": true
   },
   "outputs": [],
   "source": [
    "X25 = X_test[(X_test['evfcf']<np.percentile(X_test['evfcf'], 25)) & (X_test['revgrowth']>np.percentile(X_test['revgrowth'], 75))]\n",
    "\n",
    "X100 = X_test[(X_test['evfcf']>np.percentile(X_test['evfcf'], 75)) & (X_test['revgrowth']<np.percentile(X_test['revgrowth'], 25))]"
   ]
  },
  {
   "cell_type": "code",
   "execution_count": 362,
   "metadata": {},
   "outputs": [
    {
     "data": {
      "text/plain": [
       "2.5243506368775694"
      ]
     },
     "execution_count": 362,
     "metadata": {},
     "output_type": "execute_result"
    }
   ],
   "source": [
    "y_train_pred = clf.predict(X25)\n",
    "y_train_pred.mean()"
   ]
  },
  {
   "cell_type": "code",
   "execution_count": 363,
   "metadata": {},
   "outputs": [
    {
     "data": {
      "text/plain": [
       "1.3081340809755662"
      ]
     },
     "execution_count": 363,
     "metadata": {},
     "output_type": "execute_result"
    }
   ],
   "source": [
    "y_train_pred = clf.predict(X100)\n",
    "y_train_pred.mean()"
   ]
  },
  {
   "cell_type": "code",
   "execution_count": null,
   "metadata": {
    "collapsed": true
   },
   "outputs": [],
   "source": []
  }
 ],
 "metadata": {
  "kernelspec": {
   "display_name": "Python 3",
   "language": "python",
   "name": "python3"
  },
  "language_info": {
   "codemirror_mode": {
    "name": "ipython",
    "version": 3
   },
   "file_extension": ".py",
   "mimetype": "text/x-python",
   "name": "python",
   "nbconvert_exporter": "python",
   "pygments_lexer": "ipython3",
   "version": "3.6.3"
  }
 },
 "nbformat": 4,
 "nbformat_minor": 2
}
