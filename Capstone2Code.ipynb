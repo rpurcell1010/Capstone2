{
 "cells": [
  {
   "cell_type": "code",
   "execution_count": 2,
   "metadata": {
    "collapsed": true
   },
   "outputs": [],
   "source": [
    "#A\n",
    "#Initial analysis shows slight correlation between performance and valuation\n",
    "#Additional analysis:\n",
    "\n",
    "#B\n",
    "#statistics - performance of low valuation sample compared to high valuation sample. lowest 10%.\n",
    "#this is good.\n",
    "\n",
    "#C\n",
    "#logistic regression - probability. negative to positive returns. \n",
    "#FINAL['performance2'] = np.where(FINAL['performance']>=0, 1, 0)\n",
    "\n",
    "#D\n",
    "#linear regression - correlation matrix. multivariable correlation. dimensional analysis? combine valuation metrics?\n"
   ]
  },
  {
   "cell_type": "code",
   "execution_count": 3,
   "metadata": {
    "collapsed": true
   },
   "outputs": [],
   "source": [
    "#keep it simple with valuation metrics\n",
    "#show that low value companies with growth outperform"
   ]
  },
  {
   "cell_type": "code",
   "execution_count": 4,
   "metadata": {
    "collapsed": true
   },
   "outputs": [],
   "source": [
    "import quandl\n",
    "quandl.ApiConfig.api_key = 'FDE5zFj4jqNraFaz216a'"
   ]
  },
  {
   "cell_type": "code",
   "execution_count": 5,
   "metadata": {},
   "outputs": [
    {
     "name": "stderr",
     "output_type": "stream",
     "text": [
      "/Users/ryanpurcell/anaconda3/lib/python3.6/site-packages/quandl/get_table.py:38: UserWarning: To request more pages, please set paginate=true in your         quandl.get_table() call. For more information see our documentation:         https://github.com/quandl/quandl-python/blob/master/FOR_ANALYSTS.md#things-to-note\n",
      "  warnings.warn(Message.WARN_PAGE_LIMIT_EXCEEDED, UserWarning)\n"
     ]
    }
   ],
   "source": [
    "#CREATE REVENUE GROWTH TABLE\n",
    "\n",
    "REVGROWTH = quandl.get_table('SHARADAR/SF1',calendardate={'lte':'2013-1-28'} ,qopts={'columns':['ticker' ,'dimension','datekey','REVENUE']})\n",
    "#REVGROWTH[REVGROWTH['ticker']=='TCAP']\n",
    "\n",
    "#note: to do eda by industry can get industry data from yahoo \n",
    "\n",
    "REVGROWTH['revgrowth']=REVGROWTH.groupby('ticker')['revenue'].pct_change()\n",
    "REVGROWTH = REVGROWTH.dropna()"
   ]
  },
  {
   "cell_type": "code",
   "execution_count": 6,
   "metadata": {
    "collapsed": true
   },
   "outputs": [],
   "source": [
    "#REVGROWTH"
   ]
  },
  {
   "cell_type": "code",
   "execution_count": 7,
   "metadata": {
    "collapsed": true
   },
   "outputs": [],
   "source": [
    "#type(table2['datekey'][1])"
   ]
  },
  {
   "cell_type": "code",
   "execution_count": 8,
   "metadata": {
    "collapsed": true
   },
   "outputs": [],
   "source": [
    "#import datetime\n",
    "#table2[table2['datekey']>datetime.date(2016,1,1)]"
   ]
  },
  {
   "cell_type": "code",
   "execution_count": 9,
   "metadata": {
    "collapsed": true
   },
   "outputs": [],
   "source": [
    "#ADDING CURRENT PRICE TO TABLE\n",
    "\n",
    "table = quandl.get_table('SHARADAR/SF1',calendardate={'lte':'2012-1-28'} ,qopts={'columns':['ticker' ,'dimension','datekey','EVEBITDA','PE1','PS1','PB','ROE','MARKETCAP','PRICE','DEBT','EBITDA','FCF','CASHNEQ','EV','REVENUE']})\n",
    "\n",
    "#create a table 2 with current price concat on ticker\n",
    "\n",
    "table2 = quandl.get_table('SHARADAR/SF1',qopts={'columns':['ticker','dimension','datekey','price'],'latest':1})\n",
    "\n",
    "#table2['datekey']=table2['datekey'].astype(str)\n",
    "#table2 = table2[table2['datekey'].str.contains('2017')]\n",
    "#table2  = table2[table2['datekey']=='2017-12-31'].dropna()\n",
    "\n",
    "#concat with table1 on ticker\n",
    "\n",
    "tablef = table.merge(table2, left_on='ticker', right_on='ticker', how='inner')\n",
    "tablef['performance'] = tablef['price_y']/tablef['price_x']"
   ]
  },
  {
   "cell_type": "code",
   "execution_count": 10,
   "metadata": {
    "collapsed": true
   },
   "outputs": [],
   "source": [
    "import pandas as pd\n",
    "\n",
    "#CREATE VALUE METRICS\n",
    "\n",
    "tablef = pd.DataFrame(tablef)\n",
    "\n",
    "tablef['evrevenue'] = tablef['ev']/tablef['revenue']\n",
    "tablef['evfcf'] = tablef['ev']/tablef['fcf']"
   ]
  },
  {
   "cell_type": "code",
   "execution_count": 11,
   "metadata": {
    "collapsed": true
   },
   "outputs": [],
   "source": [
    "tablef = tablef[['ticker','evrevenue','evfcf','pb','pe1','ps1','evebitda','performance','datekey_y','price_x']].dropna()\n",
    "#tablef = tablef.merge(REVGROWTH, left_on='ticker', right_on='ticker', how='inner')\n",
    "#inner join revenue growth\n",
    "#remove negative ratios?"
   ]
  },
  {
   "cell_type": "markdown",
   "metadata": {},
   "source": [
    "# TablePositive only positive ratios. Ratios as of EOY 2011"
   ]
  },
  {
   "cell_type": "code",
   "execution_count": 12,
   "metadata": {
    "collapsed": true
   },
   "outputs": [],
   "source": [
    "#only positive ratios\n",
    "tablepos=tablef[tablef.iloc[:,0:7]>0].iloc[:,0:7].dropna()\n",
    "\n",
    "#merger performance\n",
    "tablepositive = tablepos.merge(tablef[['ticker','performance','datekey_y','price_x']], left_on='ticker', right_on='ticker', how='inner')"
   ]
  },
  {
   "cell_type": "code",
   "execution_count": 13,
   "metadata": {},
   "outputs": [
    {
     "data": {
      "text/plain": [
       "2591"
      ]
     },
     "execution_count": 13,
     "metadata": {},
     "output_type": "execute_result"
    }
   ],
   "source": [
    "len(tablepositive)"
   ]
  },
  {
   "cell_type": "code",
   "execution_count": 14,
   "metadata": {},
   "outputs": [
    {
     "name": "stdout",
     "output_type": "stream",
     "text": [
      "<class 'pandas.core.frame.DataFrame'>\n",
      "RangeIndex: 2589 entries, 0 to 2588\n",
      "Data columns (total 2 columns):\n",
      "Ticker    2589 non-null object\n",
      "Price     2467 non-null float64\n",
      "dtypes: float64(1), object(1)\n",
      "memory usage: 40.5+ KB\n"
     ]
    }
   ],
   "source": [
    "#BRING IN CURRENT STOCK PRICE\n",
    "\n",
    "#import csv with performance\n",
    "#merge with tablepositive\n",
    "\n",
    "#IMPORT DATA\n",
    "\n",
    "\n",
    "import pandas as pd\n",
    "import numpy as np\n",
    "file = '/Users/ryanpurcell/Desktop/PRICE.csv'\n",
    "df = pd.read_csv(file,encoding = \"ISO-8859-1\", low_memory = False)\n",
    "df.info()"
   ]
  },
  {
   "cell_type": "code",
   "execution_count": 15,
   "metadata": {
    "collapsed": true
   },
   "outputs": [],
   "source": [
    "tablepositive = tablepositive.merge(df, left_on='ticker', right_on='Ticker', how='inner')"
   ]
  },
  {
   "cell_type": "code",
   "execution_count": 16,
   "metadata": {},
   "outputs": [
    {
     "data": {
      "text/plain": [
       "2587"
      ]
     },
     "execution_count": 16,
     "metadata": {},
     "output_type": "execute_result"
    }
   ],
   "source": [
    "tablepositive\n",
    "tablepositive['performance'] = tablepositive['Price']/tablepositive['price_x']\n",
    "len(tablepositive)"
   ]
  },
  {
   "cell_type": "code",
   "execution_count": 17,
   "metadata": {
    "collapsed": true
   },
   "outputs": [],
   "source": [
    "tablepositive = tablepositive.dropna()\n",
    "tablepositive = tablepositive[tablepositive['performance']<2000]\n",
    "#tablepositive.sort_values('performance',ascending=True)"
   ]
  },
  {
   "cell_type": "code",
   "execution_count": 18,
   "metadata": {
    "collapsed": true
   },
   "outputs": [],
   "source": [
    "tablepositive =  tablepositive.merge(REVGROWTH, left_on='ticker', right_on='ticker', how='inner')"
   ]
  },
  {
   "cell_type": "code",
   "execution_count": 19,
   "metadata": {
    "collapsed": true
   },
   "outputs": [],
   "source": [
    "#table positive eda\n",
    "\n",
    "#note: to do eda by industry can get industry data from yahoo \n",
    "\n",
    "#DATA by MARKET CAP\n",
    "#DATA by INDUSTRY"
   ]
  },
  {
   "cell_type": "code",
   "execution_count": 20,
   "metadata": {},
   "outputs": [
    {
     "data": {
      "text/html": [
       "<div>\n",
       "<style scoped>\n",
       "    .dataframe tbody tr th:only-of-type {\n",
       "        vertical-align: middle;\n",
       "    }\n",
       "\n",
       "    .dataframe tbody tr th {\n",
       "        vertical-align: top;\n",
       "    }\n",
       "\n",
       "    .dataframe thead th {\n",
       "        text-align: right;\n",
       "    }\n",
       "</style>\n",
       "<table border=\"1\" class=\"dataframe\">\n",
       "  <thead>\n",
       "    <tr style=\"text-align: right;\">\n",
       "      <th></th>\n",
       "      <th>evrevenue</th>\n",
       "      <th>evfcf</th>\n",
       "      <th>pb</th>\n",
       "      <th>pe1</th>\n",
       "      <th>ps1</th>\n",
       "      <th>evebitda</th>\n",
       "      <th>performance</th>\n",
       "      <th>price_x</th>\n",
       "      <th>Price</th>\n",
       "      <th>revenue</th>\n",
       "      <th>revgrowth</th>\n",
       "    </tr>\n",
       "  </thead>\n",
       "  <tbody>\n",
       "    <tr>\n",
       "      <th>performance</th>\n",
       "      <td>-0.042159</td>\n",
       "      <td>-0.007446</td>\n",
       "      <td>-0.012619</td>\n",
       "      <td>-0.030511</td>\n",
       "      <td>-0.036014</td>\n",
       "      <td>0.003061</td>\n",
       "      <td>1.0</td>\n",
       "      <td>-0.028472</td>\n",
       "      <td>0.227984</td>\n",
       "      <td>-0.024141</td>\n",
       "      <td>0.025569</td>\n",
       "    </tr>\n",
       "  </tbody>\n",
       "</table>\n",
       "</div>"
      ],
      "text/plain": [
       "             evrevenue     evfcf        pb       pe1       ps1  evebitda  \\\n",
       "performance  -0.042159 -0.007446 -0.012619 -0.030511 -0.036014  0.003061   \n",
       "\n",
       "             performance   price_x     Price   revenue  revgrowth  \n",
       "performance          1.0 -0.028472  0.227984 -0.024141   0.025569  "
      ]
     },
     "execution_count": 20,
     "metadata": {},
     "output_type": "execute_result"
    }
   ],
   "source": [
    "tablepositive.corr().iloc[6:7,:]\n",
    "#indicating slight correlations as expected"
   ]
  },
  {
   "cell_type": "markdown",
   "metadata": {},
   "source": [
    "Creating Quartiles and comparing quartile performance by group"
   ]
  },
  {
   "cell_type": "markdown",
   "metadata": {},
   "source": [
    "# By Quartile"
   ]
  },
  {
   "cell_type": "code",
   "execution_count": 21,
   "metadata": {},
   "outputs": [
    {
     "data": {
      "text/plain": [
       "-0.010147987075003778"
      ]
     },
     "execution_count": 21,
     "metadata": {},
     "output_type": "execute_result"
    }
   ],
   "source": [
    "np.percentile(tablepositive['revgrowth'], 25)"
   ]
  },
  {
   "cell_type": "code",
   "execution_count": 22,
   "metadata": {},
   "outputs": [
    {
     "data": {
      "text/plain": [
       "12.2775"
      ]
     },
     "execution_count": 22,
     "metadata": {},
     "output_type": "execute_result"
    }
   ],
   "source": [
    "np.percentile(tablepositive['evebitda'], 75)"
   ]
  },
  {
   "cell_type": "code",
   "execution_count": 28,
   "metadata": {},
   "outputs": [],
   "source": [
    "#Table Positive by Quartile\n",
    "\n",
    "\n",
    "\n",
    "#Top 25% for each valuation group\n",
    "import numpy as np\n",
    "\n",
    "FILTER4evfcf = tablepositive['evfcf'] > np.percentile(tablepositive['evfcf'], 75)\n",
    "FILTER4evrev = tablepositive['evrevenue'] > np.percentile(tablepositive['evrevenue'], 75)\n",
    "FILTER4pb = tablepositive['pb'] > np.percentile(tablepositive['pb'], 75)\n",
    "FILTER4pe1 = tablepositive['pe1'] > np.percentile(tablepositive['pe1'], 75)\n",
    "FILTER4ps1 = tablepositive['ps1'] > np.percentile(tablepositive['ps1'], 75)\n",
    "FILTER4evebitda = tablepositive['evebitda'] > np.percentile(tablepositive['evebitda'], 75)\n",
    "FILTER4revg = tablepositive['revgrowth'] > np.percentile(tablepositive['revgrowth'], 75)\n",
    "\n",
    "#25% to 50% for each valuation grouping\n",
    "\n",
    "FILTER2evfcf = (tablepositive['evfcf'] > np.percentile(tablepositive['evfcf'], 25)) & (tablepositive['evfcf'] <= np.percentile(tablepositive['evfcf'], 50))\n",
    "FILTER2evrev = (tablepositive['evrevenue'] > np.percentile(tablepositive['evrevenue'], 25)) & (tablepositive['evrevenue'] <= np.percentile(tablepositive['evrevenue'], 50))\n",
    "FILTER2pb = (tablepositive['pb'] > np.percentile(tablepositive['pb'], 25)) & (tablepositive['pb'] <= np.percentile(tablepositive['pb'], 50))\n",
    "FILTER2pe1 = (tablepositive['pe1'] > np.percentile(tablepositive['pe1'], 25)) & (tablepositive['pe1'] <= np.percentile(tablepositive['pe1'], 50))\n",
    "FILTER2ps1 = (tablepositive['ps1'] > np.percentile(tablepositive['ps1'], 25)) & (tablepositive['ps1'] <= np.percentile(tablepositive['ps1'], 50))\n",
    "FILTER2evebitda = (tablepositive['evebitda'] > np.percentile(tablepositive['evebitda'], 25)) & (tablepositive['evebitda'] <= np.percentile(tablepositive['evebitda'], 50))\n",
    "FILTER2revg = (tablepositive['revgrowth'] > np.percentile(tablepositive['revgrowth'], 25)) & (tablepositive['revgrowth'] <= np.percentile(tablepositive['revgrowth'], 50))\n",
    "\n",
    "#50% to 75% for each valuation grouping\n",
    "\n",
    "FILTER3evfcf = (tablepositive['evfcf'] > np.percentile(tablepositive['evfcf'], 50)) & (tablepositive['evfcf'] <= np.percentile(tablepositive['evfcf'], 75))\n",
    "FILTER3evrev = (tablepositive['evrevenue'] > np.percentile(tablepositive['evrevenue'], 50)) & (tablepositive['evrevenue'] <= np.percentile(tablepositive['evrevenue'], 75))\n",
    "FILTER3pb = (tablepositive['pb'] > np.percentile(tablepositive['pb'], 50)) & (tablepositive['pb'] <= np.percentile(tablepositive['pb'], 75))\n",
    "FILTER3pe1 = (tablepositive['pe1'] > np.percentile(tablepositive['pe1'], 50)) & (tablepositive['pe1'] <= np.percentile(tablepositive['pe1'], 75))\n",
    "FILTER3ps1 = (tablepositive['ps1'] > np.percentile(tablepositive['ps1'], 50)) & (tablepositive['ps1'] <= np.percentile(tablepositive['ps1'], 75))\n",
    "FILTER3evebitda = (tablepositive['evebitda'] > np.percentile(tablepositive['evebitda'], 50)) & (tablepositive['evebitda'] <= np.percentile(tablepositive['evebitda'], 75))\n",
    "FILTER3revg = (tablepositive['revgrowth'] > np.percentile(tablepositive['revgrowth'], 50)) & (tablepositive['revgrowth'] <= np.percentile(tablepositive['revgrowth'], 75))\n",
    "\n",
    "#lowest 25% for each valuation grouping\n",
    "\n",
    "FILTERevfcf = tablepositive['evfcf'] <= np.percentile(tablepositive['evfcf'], 25)\n",
    "FILTERevrev = tablepositive['evrevenue'] <= np.percentile(tablepositive['evrevenue'], 25)\n",
    "FILTERpb = tablepositive['pb'] <= np.percentile(tablepositive['pb'], 25)\n",
    "FILTERpe1 = tablepositive['pe1'] <= np.percentile(tablepositive['pe1'], 25)\n",
    "FILTERps1 = tablepositive['ps1'] <= np.percentile(tablepositive['ps1'], 25)\n",
    "FILTERevebitda = tablepositive['evebitda'] <= np.percentile(tablepositive['evebitda'], 25)\n",
    "FILTERrevg = tablepositive['revgrowth'] <= np.percentile(tablepositive['revgrowth'], 25)\n",
    "FILTERrevgfcf = tablepositive['revgrowth'] <= np.percentile(tablepositive['revgrowth'], 25)"
   ]
  },
  {
   "cell_type": "markdown",
   "metadata": {},
   "source": [
    "# Growth and EV/FCF"
   ]
  },
  {
   "cell_type": "code",
   "execution_count": 102,
   "metadata": {},
   "outputs": [
    {
     "name": "stderr",
     "output_type": "stream",
     "text": [
      "/Users/ryanpurcell/anaconda3/lib/python3.6/site-packages/ipykernel_launcher.py:1: UserWarning: Boolean Series key will be reindexed to match DataFrame index.\n",
      "  \"\"\"Entry point for launching an IPython kernel.\n",
      "/Users/ryanpurcell/anaconda3/lib/python3.6/site-packages/seaborn/categorical.py:462: FutureWarning: remove_na is deprecated and is a private function. Do not use.\n",
      "  box_data = remove_na(group_data)\n"
     ]
    },
    {
     "data": {
      "image/png": "[encoded data removed]",
      "text/plain": [
       "<matplotlib.figure.Figure at 0x1a1a408198>"
      ]
     },
     "metadata": {},
     "output_type": "display_data"
    }
   ],
   "source": [
    "Dict1 = {'25': tablepositive[FILTERrevg][FILTER4evfcf].performance, '50' : tablepositive[FILTER2revg][FILTER3evfcf].performance, '75' : tablepositive[FILTER3revg][FILTER2evfcf].performance, '100' :tablepositive[FILTER4revg][FILTERevfcf].performance}\n",
    "df = pd.DataFrame(Dict1)\n",
    "\n",
    "df = df.stack()\n",
    "\n",
    "df= pd.DataFrame(df)\n",
    "df.reset_index(inplace=True)\n",
    "df.columns = ['a','Quartile','Performance']\n",
    "df=df.drop(['a'], axis=1)\n",
    "df['Quartile'] = df['Quartile'].astype('int') \n",
    "\n",
    "#df['normalized'] = (df['Performance'] - df['Performance'].min()) / (df['Performance'].max() - df['Performance'].min())\n",
    "\n",
    "filter1 = df['Performance'] < 10\n",
    "\n",
    "#import seaborn as sns\n",
    "#sns.set_style(\"whitegrid\")\n",
    "#tips = sns.load_dataset(\"tips\")\n",
    "#x = sns.boxplot(x=df[\"100\"])\n",
    "\n",
    "import seaborn as sns\n",
    "import matplotlib.pyplot as plt\n",
    "from matplotlib.ticker import FuncFormatter\n",
    "\n",
    "def millions(x, pos):\n",
    "    return '%1.fx' % (x)\n",
    "\n",
    "formatter = FuncFormatter(millions)\n",
    "\n",
    "fig, ax = plt.subplots()\n",
    "ax.yaxis.set_major_formatter(formatter)\n",
    "\n",
    "plt.title(\"Revenue Growth & EV/FCF Performance by Quartile\")\n",
    "sns.boxplot(x=\"Quartile\", y=\"Performance\", data=df[filter1])\n",
    "\n",
    "plt.xticks([0, 1, 2,3], ['1st/4th', '2nd/3rd', '3rd/2nd','4th/1st'])\n",
    "\n",
    "plt.show()"
   ]
  },
  {
   "cell_type": "code",
   "execution_count": 101,
   "metadata": {},
   "outputs": [
    {
     "data": {
      "image/png": "[encoded data removed]",
      "text/plain": [
       "<matplotlib.figure.Figure at 0x1a1a2ebc50>"
      ]
     },
     "metadata": {},
     "output_type": "display_data"
    }
   ],
   "source": [
    "from matplotlib.ticker import FuncFormatter\n",
    "import matplotlib.pyplot as plt\n",
    "import numpy as np\n",
    "\n",
    "x = np.arange(4)\n",
    "money = [df[df['Quartile']==25]['Performance'].mean(), df[df['Quartile']==50]['Performance'].mean(), df[df['Quartile']==75]['Performance'].mean(), df[df['Quartile']==100]['Performance'].mean()]\n",
    "\n",
    "\n",
    "def millions(x, pos):\n",
    "    return '%1.1fx' % (x)\n",
    "\n",
    "formatter = FuncFormatter(millions)\n",
    "\n",
    "fig, ax = plt.subplots()\n",
    "ax.yaxis.set_major_formatter(formatter)\n",
    "plt.bar(x, money,color='tomato')\n",
    "plt.xticks(x, [25,50,75,100])\n",
    "plt.xlabel(\"Quartile\")\n",
    "plt.ylabel(\"Performance\")\n",
    "plt.title(\"Revenue Growth & EV/FCF Mean Performance by Quartile\")\n",
    "plt.xticks([0, 1, 2,3], ['1st/4th', '2nd/3rd', '3rd/2nd','4th/1st'])\n",
    "plt.show()"
   ]
  },
  {
   "cell_type": "markdown",
   "metadata": {},
   "source": [
    "# Growth"
   ]
  },
  {
   "cell_type": "code",
   "execution_count": 87,
   "metadata": {},
   "outputs": [
    {
     "name": "stderr",
     "output_type": "stream",
     "text": [
      "/Users/ryanpurcell/anaconda3/lib/python3.6/site-packages/seaborn/categorical.py:462: FutureWarning: remove_na is deprecated and is a private function. Do not use.\n",
      "  box_data = remove_na(group_data)\n"
     ]
    },
    {
     "data": {
      "image/png": "[encoded data removed]",
      "text/plain": [
       "<matplotlib.figure.Figure at 0x1a1a138710>"
      ]
     },
     "metadata": {},
     "output_type": "display_data"
    }
   ],
   "source": [
    "Dict1 = {'25': tablepositive[FILTERrevg].performance, '50' : tablepositive[FILTER2revg].performance, '75' : tablepositive[FILTER3revg].performance, '100' :tablepositive[FILTER4revg].performance}\n",
    "df = pd.DataFrame(Dict1)\n",
    "\n",
    "df = df.stack()\n",
    "\n",
    "df= pd.DataFrame(df)\n",
    "df.reset_index(inplace=True)\n",
    "df.columns = ['a','Quartile','Performance']\n",
    "df=df.drop(['a'], axis=1)\n",
    "df['Quartile'] = df['Quartile'].astype('int') \n",
    "\n",
    "#df['normalized'] = (df['Performance'] - df['Performance'].min()) / (df['Performance'].max() - df['Performance'].min())\n",
    "\n",
    "filter1 = df['Performance'] < 10\n",
    "\n",
    "#import seaborn as sns\n",
    "#sns.set_style(\"whitegrid\")\n",
    "#tips = sns.load_dataset(\"tips\")\n",
    "#x = sns.boxplot(x=df[\"100\"])\n",
    "\n",
    "import seaborn as sns\n",
    "import matplotlib.pyplot as plt\n",
    "from matplotlib.ticker import FuncFormatter\n",
    "\n",
    "def millions(x, pos):\n",
    "    return '%1.fx' % (x)\n",
    "\n",
    "formatter = FuncFormatter(millions)\n",
    "\n",
    "fig, ax = plt.subplots()\n",
    "ax.yaxis.set_major_formatter(formatter)\n",
    "\n",
    "plt.title(\"Revenue Growth Performance by Quartile\")\n",
    "sns.boxplot(x=\"Quartile\", y=\"Performance\", data=df[filter1])\n",
    "\n",
    "plt.xticks([0, 1, 2,3], ['1st', '2nd', '3rd','4th'])\n",
    "\n",
    "plt.show()"
   ]
  },
  {
   "cell_type": "code",
   "execution_count": 88,
   "metadata": {},
   "outputs": [
    {
     "data": {
      "image/png": "[encoded data removed]",
      "text/plain": [
       "<matplotlib.figure.Figure at 0x1a19ee0128>"
      ]
     },
     "metadata": {},
     "output_type": "display_data"
    }
   ],
   "source": [
    "from matplotlib.ticker import FuncFormatter\n",
    "import matplotlib.pyplot as plt\n",
    "import numpy as np\n",
    "\n",
    "x = np.arange(4)\n",
    "money = [df[df['Quartile']==25]['Performance'].mean(), df[df['Quartile']==50]['Performance'].mean(), df[df['Quartile']==75]['Performance'].mean(), df[df['Quartile']==100]['Performance'].mean()]\n",
    "\n",
    "\n",
    "def millions(x, pos):\n",
    "    return '%1.1fx' % (x)\n",
    "\n",
    "formatter = FuncFormatter(millions)\n",
    "\n",
    "fig, ax = plt.subplots()\n",
    "ax.yaxis.set_major_formatter(formatter)\n",
    "plt.bar(x, money,color='tomato')\n",
    "plt.xticks(x, [25,50,75,100])\n",
    "plt.xlabel(\"Quartile\")\n",
    "plt.ylabel(\"Performance\")\n",
    "plt.title(\"Revenue Growth Mean Performance by Quartile\")\n",
    "plt.xticks([0, 1, 2,3], ['1st', '2nd', '3rd','4th'])\n",
    "plt.show()"
   ]
  },
  {
   "cell_type": "markdown",
   "metadata": {},
   "source": [
    "# EV / Rev"
   ]
  },
  {
   "cell_type": "code",
   "execution_count": 55,
   "metadata": {},
   "outputs": [
    {
     "name": "stderr",
     "output_type": "stream",
     "text": [
      "/Users/ryanpurcell/anaconda3/lib/python3.6/site-packages/seaborn/categorical.py:462: FutureWarning: remove_na is deprecated and is a private function. Do not use.\n",
      "  box_data = remove_na(group_data)\n"
     ]
    },
    {
     "data": {
      "image/png": "[encoded data removed]",
      "text/plain": [
       "<matplotlib.figure.Figure at 0x1a1a5d9ba8>"
      ]
     },
     "metadata": {},
     "output_type": "display_data"
    }
   ],
   "source": [
    "Dict1 = {'25': tablepositive[FILTERevrev].performance, '50' : tablepositive[FILTER2evrev].performance, '75' : tablepositive[FILTER3evrev].performance, '100' :tablepositive[FILTER4evrev].performance}\n",
    "df = pd.DataFrame(Dict1)\n",
    "\n",
    "df = df.stack()\n",
    "\n",
    "df= pd.DataFrame(df)\n",
    "df.reset_index(inplace=True)\n",
    "df.columns = ['a','Quartile','Performance']\n",
    "df=df.drop(['a'], axis=1)\n",
    "df['Quartile'] = df['Quartile'].astype('int') \n",
    "\n",
    "#df['normalized'] = (df['Performance'] - df['Performance'].min()) / (df['Performance'].max() - df['Performance'].min())\n",
    "\n",
    "filter1 = df['Performance'] < 10\n",
    "\n",
    "#import seaborn as sns\n",
    "#sns.set_style(\"whitegrid\")\n",
    "#tips = sns.load_dataset(\"tips\")\n",
    "#x = sns.boxplot(x=df[\"100\"])\n",
    "\n",
    "import seaborn as sns\n",
    "import matplotlib.pyplot as plt\n",
    "from matplotlib.ticker import FuncFormatter\n",
    "\n",
    "def millions(x, pos):\n",
    "    return '%1.fx' % (x)\n",
    "\n",
    "formatter = FuncFormatter(millions)\n",
    "\n",
    "fig, ax = plt.subplots()\n",
    "ax.yaxis.set_major_formatter(formatter)\n",
    "\n",
    "plt.title(\"EV/Rev Performance by Quartile\")\n",
    "sns.boxplot(x=\"Quartile\", y=\"Performance\", data=df[filter1])\n",
    "\n",
    "plt.xticks([0, 1, 2,3], ['1st', '2nd', '3rd','4th'])\n",
    "\n",
    "plt.show()"
   ]
  },
  {
   "cell_type": "code",
   "execution_count": 56,
   "metadata": {},
   "outputs": [
    {
     "data": {
      "image/png": "[encoded data removed]",
      "text/plain": [
       "<matplotlib.figure.Figure at 0x1a1a5fee10>"
      ]
     },
     "metadata": {},
     "output_type": "display_data"
    }
   ],
   "source": [
    "from matplotlib.ticker import FuncFormatter\n",
    "import matplotlib.pyplot as plt\n",
    "import numpy as np\n",
    "\n",
    "x = np.arange(4)\n",
    "money = [df[df['Quartile']==25]['Performance'].mean(), df[df['Quartile']==50]['Performance'].mean(), df[df['Quartile']==75]['Performance'].mean(), df[df['Quartile']==100]['Performance'].mean()]\n",
    "\n",
    "\n",
    "def millions(x, pos):\n",
    "    return '%1.1fx' % (x)\n",
    "\n",
    "formatter = FuncFormatter(millions)\n",
    "\n",
    "fig, ax = plt.subplots()\n",
    "ax.yaxis.set_major_formatter(formatter)\n",
    "plt.bar(x, money,color='tomato')\n",
    "plt.xticks(x, [25,50,75,100])\n",
    "plt.xlabel(\"Quartile\")\n",
    "plt.ylabel(\"Performance\")\n",
    "plt.title(\"EV/Revenue Mean Performance by Quartile\")\n",
    "plt.xticks([0, 1, 2,3], ['1st', '2nd', '3rd','4th'])\n",
    "plt.show()"
   ]
  },
  {
   "cell_type": "code",
   "execution_count": null,
   "metadata": {},
   "outputs": [],
   "source": [
    "#t-test comparing top 25 to bottom 25\n",
    "\n",
    "import scipy.stats as st\n",
    "\n",
    "pf = df[df['Quartile']==25]['Performance']\n",
    "\n",
    "pf1 = df[df['Quartile']==100]['Performance']\n",
    "\n",
    "st.ttest_ind(pf1,pf)\n"
   ]
  },
  {
   "cell_type": "markdown",
   "metadata": {},
   "source": [
    "# ev / fcf"
   ]
  },
  {
   "cell_type": "code",
   "execution_count": 44,
   "metadata": {},
   "outputs": [
    {
     "name": "stderr",
     "output_type": "stream",
     "text": [
      "/Users/ryanpurcell/anaconda3/lib/python3.6/site-packages/seaborn/categorical.py:462: FutureWarning: remove_na is deprecated and is a private function. Do not use.\n",
      "  box_data = remove_na(group_data)\n"
     ]
    },
    {
     "data": {
      "image/png": "[encoded data removed]",
      "text/plain": [
       "<matplotlib.figure.Figure at 0x1a1a4ab518>"
      ]
     },
     "metadata": {},
     "output_type": "display_data"
    }
   ],
   "source": [
    "Dict1 = {'25': tablepositive[FILTERevfcf].performance, '50' : tablepositive[FILTER2evfcf].performance, '75' : tablepositive[FILTER3evfcf].performance, '100' :tablepositive[FILTER4evfcf].performance}\n",
    "df = pd.DataFrame(Dict1)\n",
    "\n",
    "df = df.stack()\n",
    "\n",
    "df= pd.DataFrame(df)\n",
    "df.reset_index(inplace=True)\n",
    "df.columns = ['a','Quartile','Performance']\n",
    "df=df.drop(['a'], axis=1)\n",
    "df['Quartile'] = df['Quartile'].astype('int') \n",
    "\n",
    "#df['normalized'] = (df['Performance'] - df['Performance'].min()) / (df['Performance'].max() - df['Performance'].min())\n",
    "\n",
    "filter1 = df['Performance'] < 10\n",
    "\n",
    "#import seaborn as sns\n",
    "#sns.set_style(\"whitegrid\")\n",
    "#tips = sns.load_dataset(\"tips\")\n",
    "#x = sns.boxplot(x=df[\"100\"])\n",
    "\n",
    "import seaborn as sns\n",
    "\n",
    "def millions(x, pos):\n",
    "    return '%1.fx' % (x)\n",
    "\n",
    "formatter = FuncFormatter(millions)\n",
    "\n",
    "fig, ax = plt.subplots()\n",
    "ax.yaxis.set_major_formatter(formatter)\n",
    "\n",
    "plt.title(\"EV/FCF Performance by Quartile\")\n",
    "sns.boxplot(x=\"Quartile\", y=\"Performance\", data=df[filter1])\n",
    "plt.xticks([0, 1, 2,3], ['1st', '2nd', '3rd','4th'])\n",
    "plt.show()"
   ]
  },
  {
   "cell_type": "code",
   "execution_count": 95,
   "metadata": {},
   "outputs": [
    {
     "data": {
      "text/plain": [
       "1.3881937243518547"
      ]
     },
     "execution_count": 95,
     "metadata": {},
     "output_type": "execute_result"
    }
   ],
   "source": [
    "df[df['Quartile']==25]['Performance'].mean()"
   ]
  },
  {
   "cell_type": "code",
   "execution_count": 96,
   "metadata": {},
   "outputs": [
    {
     "data": {
      "text/plain": [
       "2.7506393649943433"
      ]
     },
     "execution_count": 96,
     "metadata": {},
     "output_type": "execute_result"
    }
   ],
   "source": [
    "df[df['Quartile']==100]['Performance'].mean()"
   ]
  },
  {
   "cell_type": "code",
   "execution_count": 97,
   "metadata": {},
   "outputs": [
    {
     "data": {
      "text/plain": [
       "0.9805183320741291"
      ]
     },
     "execution_count": 97,
     "metadata": {},
     "output_type": "execute_result"
    }
   ],
   "source": [
    "df[df['Quartile']==25]['Performance'].median()"
   ]
  },
  {
   "cell_type": "code",
   "execution_count": 98,
   "metadata": {},
   "outputs": [
    {
     "data": {
      "text/plain": [
       "2.236352896279576"
      ]
     },
     "execution_count": 98,
     "metadata": {},
     "output_type": "execute_result"
    }
   ],
   "source": [
    "df[df['Quartile']==100]['Performance'].median()"
   ]
  },
  {
   "cell_type": "code",
   "execution_count": 45,
   "metadata": {},
   "outputs": [
    {
     "data": {
      "image/png": "[encoded data removed]",
      "text/plain": [
       "<matplotlib.figure.Figure at 0x1a19fce630>"
      ]
     },
     "metadata": {},
     "output_type": "display_data"
    }
   ],
   "source": [
    "from matplotlib.ticker import FuncFormatter\n",
    "import matplotlib.pyplot as plt\n",
    "import numpy as np\n",
    "\n",
    "x = np.arange(4)\n",
    "money = [df[df['Quartile']==25]['Performance'].mean(), df[df['Quartile']==50]['Performance'].mean(), df[df['Quartile']==75]['Performance'].mean(), df[df['Quartile']==100]['Performance'].mean()]\n",
    "\n",
    "\n",
    "def millions(x, pos):\n",
    "    return '%1.1fx' % (x)\n",
    "\n",
    "formatter = FuncFormatter(millions)\n",
    "\n",
    "fig, ax = plt.subplots()\n",
    "ax.yaxis.set_major_formatter(formatter)\n",
    "plt.bar(x, money,color='tomato')\n",
    "plt.xticks(x, [25,50,75,100])\n",
    "plt.xlabel(\"Quartile\")\n",
    "plt.ylabel(\"Performance\")\n",
    "plt.title(\"EV/FCF Mean Performance by Quartile\")\n",
    "plt.xticks([0, 1, 2,3], ['1st', '2nd', '3rd','4th'])\n",
    "plt.show()"
   ]
  },
  {
   "cell_type": "code",
   "execution_count": null,
   "metadata": {},
   "outputs": [],
   "source": [
    "import scipy.stats as st\n",
    "\n",
    "pf = df[df['Quartile']==25]['Performance']\n",
    "\n",
    "pf1 = df[df['Quartile']==100]['Performance']\n",
    "\n",
    "st.ttest_ind(pf1,pf)"
   ]
  },
  {
   "cell_type": "markdown",
   "metadata": {},
   "source": [
    "# pb"
   ]
  },
  {
   "cell_type": "code",
   "execution_count": 63,
   "metadata": {},
   "outputs": [
    {
     "name": "stderr",
     "output_type": "stream",
     "text": [
      "/Users/ryanpurcell/anaconda3/lib/python3.6/site-packages/seaborn/categorical.py:462: FutureWarning: remove_na is deprecated and is a private function. Do not use.\n",
      "  box_data = remove_na(group_data)\n"
     ]
    },
    {
     "data": {
      "image/png": "[encoded data removed]",
      "text/plain": [
       "<matplotlib.figure.Figure at 0x1a19e10860>"
      ]
     },
     "metadata": {},
     "output_type": "display_data"
    }
   ],
   "source": [
    "Dict1 = {'25': tablepositive[FILTERpb].performance, '50' : tablepositive[FILTER2pb].performance, '75' : tablepositive[FILTER3pb].performance, '100' :tablepositive[FILTER4pb].performance}\n",
    "df = pd.DataFrame(Dict1)\n",
    "\n",
    "df = df.stack()\n",
    "\n",
    "df= pd.DataFrame(df)\n",
    "df.reset_index(inplace=True)\n",
    "df.columns = ['a','Quartile','Performance']\n",
    "df=df.drop(['a'], axis=1)\n",
    "df['Quartile'] = df['Quartile'].astype('int') \n",
    "\n",
    "#df['normalized'] = (df['Performance'] - df['Performance'].min()) / (df['Performance'].max() - df['Performance'].min())\n",
    "\n",
    "filter1 = df['Performance'] < 10\n",
    "\n",
    "#import seaborn as sns\n",
    "#sns.set_style(\"whitegrid\")\n",
    "#tips = sns.load_dataset(\"tips\")\n",
    "#x = sns.boxplot(x=df[\"100\"])\n",
    "\n",
    "import seaborn as sns\n",
    "\n",
    "def millions(x, pos):\n",
    "    return '%1.fx' % (x)\n",
    "\n",
    "formatter = FuncFormatter(millions)\n",
    "\n",
    "fig, ax = plt.subplots()\n",
    "ax.yaxis.set_major_formatter(formatter)\n",
    "\n",
    "plt.title(\"P/B Performance by Quartile\")\n",
    "sns.boxplot(x=\"Quartile\", y=\"Performance\", data=df[filter1])\n",
    "plt.xticks([0, 1, 2,3], ['1st', '2nd', '3rd','4th'])\n",
    "plt.show()"
   ]
  },
  {
   "cell_type": "code",
   "execution_count": 64,
   "metadata": {},
   "outputs": [
    {
     "data": {
      "image/png": "[encoded data removed]",
      "text/plain": [
       "<matplotlib.figure.Figure at 0x1a1a18c5f8>"
      ]
     },
     "metadata": {},
     "output_type": "display_data"
    }
   ],
   "source": [
    "from matplotlib.ticker import FuncFormatter\n",
    "import matplotlib.pyplot as plt\n",
    "import numpy as np\n",
    "\n",
    "x = np.arange(4)\n",
    "money = [df[df['Quartile']==25]['Performance'].mean(), df[df['Quartile']==50]['Performance'].mean(), df[df['Quartile']==75]['Performance'].mean(), df[df['Quartile']==100]['Performance'].mean()]\n",
    "\n",
    "\n",
    "def millions(x, pos):\n",
    "    return '%1.1fx' % (x)\n",
    "\n",
    "formatter = FuncFormatter(millions)\n",
    "\n",
    "fig, ax = plt.subplots()\n",
    "ax.yaxis.set_major_formatter(formatter)\n",
    "plt.bar(x, money,color='tomato')\n",
    "plt.xticks(x, [25,50,75,100])\n",
    "plt.xlabel(\"Quartile\")\n",
    "plt.ylabel(\"Performance\")\n",
    "plt.title(\"P/B Mean Performance by Quartile\")\n",
    "plt.xticks([0, 1, 2,3], ['1st', '2nd', '3rd','4th'])\n",
    "plt.show()"
   ]
  },
  {
   "cell_type": "code",
   "execution_count": null,
   "metadata": {},
   "outputs": [],
   "source": [
    "import scipy.stats as st\n",
    "\n",
    "pf = df[df['Quartile']==25]['Performance']\n",
    "\n",
    "pf1 = df[df['Quartile']==100]['Performance']\n",
    "\n",
    "st.ttest_ind(pf1,pf)"
   ]
  },
  {
   "cell_type": "markdown",
   "metadata": {},
   "source": [
    "# pe1"
   ]
  },
  {
   "cell_type": "code",
   "execution_count": 69,
   "metadata": {},
   "outputs": [
    {
     "name": "stderr",
     "output_type": "stream",
     "text": [
      "/Users/ryanpurcell/anaconda3/lib/python3.6/site-packages/seaborn/categorical.py:462: FutureWarning: remove_na is deprecated and is a private function. Do not use.\n",
      "  box_data = remove_na(group_data)\n"
     ]
    },
    {
     "data": {
      "image/png": "[encoded data removed]",
      "text/plain": [
       "<matplotlib.figure.Figure at 0x1a19e10438>"
      ]
     },
     "metadata": {},
     "output_type": "display_data"
    }
   ],
   "source": [
    "Dict1 = {'25': tablepositive[FILTERpe1].performance, '50' : tablepositive[FILTER2pe1].performance, '75' : tablepositive[FILTER3pe1].performance, '100' :tablepositive[FILTER4pe1].performance}\n",
    "df = pd.DataFrame(Dict1)\n",
    "\n",
    "df = df.stack()\n",
    "\n",
    "df= pd.DataFrame(df)\n",
    "df.reset_index(inplace=True)\n",
    "df.columns = ['a','Quartile','Performance']\n",
    "df=df.drop(['a'], axis=1)\n",
    "df['Quartile'] = df['Quartile'].astype('int') \n",
    "\n",
    "#df['normalized'] = (df['Performance'] - df['Performance'].min()) / (df['Performance'].max() - df['Performance'].min())\n",
    "\n",
    "filter1 = df['Performance'] < 10\n",
    "\n",
    "#import seaborn as sns\n",
    "#sns.set_style(\"whitegrid\")\n",
    "#tips = sns.load_dataset(\"tips\")\n",
    "#x = sns.boxplot(x=df[\"100\"])\n",
    "\n",
    "import seaborn as sns\n",
    "\n",
    "def millions(x, pos):\n",
    "    return '%1.fx' % (x)\n",
    "\n",
    "formatter = FuncFormatter(millions)\n",
    "\n",
    "fig, ax = plt.subplots()\n",
    "ax.yaxis.set_major_formatter(formatter)\n",
    "\n",
    "plt.title(\"P/E Performance by Quartile\")\n",
    "sns.boxplot(x=\"Quartile\", y=\"Performance\", data=df[filter1])\n",
    "plt.xticks([0, 1, 2,3], ['1st', '2nd', '3rd','4th'])\n",
    "plt.show()"
   ]
  },
  {
   "cell_type": "code",
   "execution_count": 70,
   "metadata": {},
   "outputs": [
    {
     "data": {
      "image/png": "[encoded data removed]",
      "text/plain": [
       "<matplotlib.figure.Figure at 0x1a19e5c550>"
      ]
     },
     "metadata": {},
     "output_type": "display_data"
    }
   ],
   "source": [
    "from matplotlib.ticker import FuncFormatter\n",
    "import matplotlib.pyplot as plt\n",
    "import numpy as np\n",
    "\n",
    "x = np.arange(4)\n",
    "money = [df[df['Quartile']==25]['Performance'].mean(), df[df['Quartile']==50]['Performance'].mean(), df[df['Quartile']==75]['Performance'].mean(), df[df['Quartile']==100]['Performance'].mean()]\n",
    "\n",
    "\n",
    "def millions(x, pos):\n",
    "    return '%1.1fx' % (x)\n",
    "\n",
    "formatter = FuncFormatter(millions)\n",
    "\n",
    "fig, ax = plt.subplots()\n",
    "ax.yaxis.set_major_formatter(formatter)\n",
    "plt.bar(x, money,color='tomato')\n",
    "plt.xticks(x, [25,50,75,100])\n",
    "plt.xlabel(\"Quartile\")\n",
    "plt.ylabel(\"Performance\")\n",
    "plt.title(\"P/E Mean Performance by Quartile\")\n",
    "plt.xticks([0, 1, 2,3], ['1st', '2nd', '3rd','4th'])\n",
    "plt.show()"
   ]
  },
  {
   "cell_type": "code",
   "execution_count": null,
   "metadata": {},
   "outputs": [],
   "source": [
    "import scipy.stats as st\n",
    "\n",
    "pf = df[df['Quartile']==25]['Performance']\n",
    "\n",
    "pf1 = df[df['Quartile']==100]['Performance']\n",
    "\n",
    "st.ttest_ind(pf1,pf)"
   ]
  },
  {
   "cell_type": "markdown",
   "metadata": {},
   "source": [
    "# ps1"
   ]
  },
  {
   "cell_type": "code",
   "execution_count": 75,
   "metadata": {},
   "outputs": [
    {
     "name": "stderr",
     "output_type": "stream",
     "text": [
      "/Users/ryanpurcell/anaconda3/lib/python3.6/site-packages/seaborn/categorical.py:462: FutureWarning: remove_na is deprecated and is a private function. Do not use.\n",
      "  box_data = remove_na(group_data)\n"
     ]
    },
    {
     "data": {
      "image/png": "[encoded data removed]",
      "text/plain": [
       "<matplotlib.figure.Figure at 0x1a1a11c470>"
      ]
     },
     "metadata": {},
     "output_type": "display_data"
    }
   ],
   "source": [
    "Dict1 = {'25': tablepositive[FILTERps1].performance, '50' : tablepositive[FILTER2ps1].performance, '75' : tablepositive[FILTER3ps1].performance, '100' :tablepositive[FILTER4ps1].performance}\n",
    "df = pd.DataFrame(Dict1)\n",
    "df = df.stack()\n",
    "\n",
    "df= pd.DataFrame(df)\n",
    "df.reset_index(inplace=True)\n",
    "df.columns = ['a','Quartile','Performance']\n",
    "df['Quartile'] = df['Quartile'].astype('int') \n",
    "df=df.drop(['a'], axis=1)\n",
    "#order=df.sort_values('Quartile')\n",
    "order = sorted(df.Quartile.unique())\n",
    "\n",
    "#df['normalized'] = (df['Performance'] - df['Performance'].min()) / (df['Performance'].max() - df['Performance'].min())\n",
    "\n",
    "filter1 = df['Performance'] < 10\n",
    "\n",
    "#import seaborn as sns\n",
    "#sns.set_style(\"whitegrid\")\n",
    "#tips = sns.load_dataset(\"tips\")\n",
    "#x = sns.boxplot(x=df[\"100\"])\n",
    "\n",
    "import seaborn as sns\n",
    "\n",
    "def millions(x, pos):\n",
    "    return '%1.fx' % (x)\n",
    "\n",
    "formatter = FuncFormatter(millions)\n",
    "\n",
    "fig, ax = plt.subplots()\n",
    "ax.yaxis.set_major_formatter(formatter)\n",
    "\n",
    "plt.title(\"P/S Performance by Quartile\")\n",
    "sns.boxplot(x=\"Quartile\", y=\"Performance\",order=order,data=df[filter1])\n",
    "#sns.swarmplot(x=\"Quartile\", y=\"Performance\", data=df)\n",
    "plt.xticks([0, 1, 2,3], ['1st', '2nd', '3rd','4th'])\n",
    "plt.show()"
   ]
  },
  {
   "cell_type": "code",
   "execution_count": 76,
   "metadata": {},
   "outputs": [
    {
     "data": {
      "image/png": "[encoded data removed]",
      "text/plain": [
       "<matplotlib.figure.Figure at 0x1a19ed66a0>"
      ]
     },
     "metadata": {},
     "output_type": "display_data"
    }
   ],
   "source": [
    "from matplotlib.ticker import FuncFormatter\n",
    "import matplotlib.pyplot as plt\n",
    "import numpy as np\n",
    "\n",
    "x = np.arange(4)\n",
    "money = [df[df['Quartile']==25]['Performance'].mean(), df[df['Quartile']==50]['Performance'].mean(), df[df['Quartile']==75]['Performance'].mean(), df[df['Quartile']==100]['Performance'].mean()]\n",
    "\n",
    "\n",
    "def millions(x, pos):\n",
    "    return '%1.1fx' % (x)\n",
    "\n",
    "formatter = FuncFormatter(millions)\n",
    "\n",
    "fig, ax = plt.subplots()\n",
    "ax.yaxis.set_major_formatter(formatter)\n",
    "plt.bar(x, money,color='tomato')\n",
    "plt.xticks(x, [25,50,75,100])\n",
    "plt.xlabel(\"Quartile\")\n",
    "plt.ylabel(\"Performance\")\n",
    "plt.title(\"P/S Mean Performance by Quartile\")\n",
    "plt.xticks([0, 1, 2,3], ['1st', '2nd', '3rd','4th'])\n",
    "plt.show()"
   ]
  },
  {
   "cell_type": "code",
   "execution_count": null,
   "metadata": {},
   "outputs": [],
   "source": [
    "import scipy.stats as st\n",
    "\n",
    "pf = df[df['Quartile']==25]['Performance']\n",
    "\n",
    "pf1 = df[df['Quartile']==100]['Performance']\n",
    "\n",
    "st.ttest_ind(pf1,pf)"
   ]
  },
  {
   "cell_type": "markdown",
   "metadata": {},
   "source": [
    "# ev / ebitda"
   ]
  },
  {
   "cell_type": "code",
   "execution_count": 81,
   "metadata": {},
   "outputs": [
    {
     "name": "stderr",
     "output_type": "stream",
     "text": [
      "/Users/ryanpurcell/anaconda3/lib/python3.6/site-packages/seaborn/categorical.py:462: FutureWarning: remove_na is deprecated and is a private function. Do not use.\n",
      "  box_data = remove_na(group_data)\n"
     ]
    },
    {
     "data": {
      "image/png": "[encoded data removed]",
      "text/plain": [
       "<matplotlib.figure.Figure at 0x1a1a18cac8>"
      ]
     },
     "metadata": {},
     "output_type": "display_data"
    }
   ],
   "source": [
    "Dict1 = {'25': tablepositive[FILTERevebitda].performance, '50' : tablepositive[FILTER2evebitda].performance, '75' : tablepositive[FILTER3evebitda].performance, '100' :tablepositive[FILTER4evebitda].performance}\n",
    "df = pd.DataFrame(Dict1)\n",
    "\n",
    "df = df.stack()\n",
    "\n",
    "df= pd.DataFrame(df)\n",
    "df.reset_index(inplace=True)\n",
    "df.columns = ['a','Quartile','Performance']\n",
    "df=df.drop(['a'], axis=1)\n",
    "df['Quartile'] = df['Quartile'].astype('int') \n",
    "\n",
    "#df['normalized'] = (df['Performance'] - df['Performance'].min()) / (df['Performance'].max() - df['Performance'].min())\n",
    "\n",
    "filter1 = df['Performance'] < 10\n",
    "\n",
    "#import seaborn as sns\n",
    "#sns.set_style(\"whitegrid\")\n",
    "#tips = sns.load_dataset(\"tips\")\n",
    "#x = sns.boxplot(x=df[\"100\"])\n",
    "\n",
    "import seaborn as sns\n",
    "\n",
    "def millions(x, pos):\n",
    "    return '%1.fx' % (x)\n",
    "\n",
    "formatter = FuncFormatter(millions)\n",
    "\n",
    "fig, ax = plt.subplots()\n",
    "ax.yaxis.set_major_formatter(formatter)\n",
    "\n",
    "plt.title(\"EV/EBITDA Performance by Quartile\")\n",
    "sns.boxplot(x=\"Quartile\", y=\"Performance\", data=df[filter1])\n",
    "plt.xticks([0, 1, 2,3], ['1st', '2nd', '3rd','4th'])\n",
    "plt.show()"
   ]
  },
  {
   "cell_type": "code",
   "execution_count": 82,
   "metadata": {},
   "outputs": [
    {
     "data": {
      "image/png": "[encoded data removed]",
      "text/plain": [
       "<matplotlib.figure.Figure at 0x1a1a54d748>"
      ]
     },
     "metadata": {},
     "output_type": "display_data"
    }
   ],
   "source": [
    "from matplotlib.ticker import FuncFormatter\n",
    "import matplotlib.pyplot as plt\n",
    "import numpy as np\n",
    "\n",
    "x = np.arange(4)\n",
    "money = [df[df['Quartile']==25]['Performance'].mean(), df[df['Quartile']==50]['Performance'].mean(), df[df['Quartile']==75]['Performance'].mean(), df[df['Quartile']==100]['Performance'].mean()]\n",
    "\n",
    "\n",
    "def millions(x, pos):\n",
    "    return '%1.1fx' % (x)\n",
    "\n",
    "formatter = FuncFormatter(millions)\n",
    "\n",
    "fig, ax = plt.subplots()\n",
    "ax.yaxis.set_major_formatter(formatter)\n",
    "plt.bar(x, money,color='tomato')\n",
    "plt.xticks(x, [25,50,75,100])\n",
    "plt.xlabel(\"Quartile\")\n",
    "plt.ylabel(\"Performance\")\n",
    "plt.title(\"EV/EBITDA Mean Performance by Quartile\")\n",
    "plt.xticks([0, 1, 2,3], ['1st', '2nd', '3rd','4th'])\n",
    "\n",
    "plt.show()"
   ]
  },
  {
   "cell_type": "code",
   "execution_count": null,
   "metadata": {},
   "outputs": [],
   "source": [
    "import scipy.stats as st\n",
    "\n",
    "pf = df[df['Quartile']==25]['Performance']\n",
    "\n",
    "pf1 = df[df['Quartile']==100]['Performance']\n",
    "\n",
    "st.ttest_ind(pf1,pf)"
   ]
  },
  {
   "cell_type": "markdown",
   "metadata": {},
   "source": [
    "# Random Forest"
   ]
  },
  {
   "cell_type": "code",
   "execution_count": null,
   "metadata": {},
   "outputs": [],
   "source": [
    "X = tablepositive[['evrevenue','pb','pe1','ps1','evfcf','evebitda']]\n",
    "y = tablepositive['performance']\n",
    "\n",
    "from sklearn.model_selection import train_test_split\n",
    "X_train, X_test, y_train, y_test = train_test_split(X,y,test_size = 0.2, random_state = 1)\n",
    "\n",
    "from sklearn.ensemble import RandomForestRegressor\n",
    "forest = RandomForestRegressor(n_estimators = 1000, criterion = 'mse', random_state=1,n_jobs = -1)\n",
    "\n",
    "forest.fit(X_train, y_train)\n",
    "y_train_pred = forest.predict(X_train)\n",
    "y_train_pred.mean()"
   ]
  },
  {
   "cell_type": "code",
   "execution_count": null,
   "metadata": {},
   "outputs": [],
   "source": [
    "X.describe()"
   ]
  },
  {
   "cell_type": "code",
   "execution_count": null,
   "metadata": {
    "collapsed": true
   },
   "outputs": [],
   "source": [
    "X25 = X[(X['evrevenue']<= np.percentile(X['evrevenue'], 25)) & (X['pb']<=np.percentile(X['pb'], 25)) & (X['pe1']<=np.percentile(X['pe1'], 25)) & (X['ps1']<=np.percentile(X['ps1'], 25)) & (X['evfcf']<=np.percentile(X['evfcf'], 25)) & (X['evebitda']<=np.percentile(X['evebitda'], 25))]\n",
    "\n",
    "X100 = X[(X['evrevenue']>=np.percentile(X['evrevenue'], 75)) & (X['pb']>=np.percentile(X['pb'],75)) & (X['pe1']>=np.percentile(X['pe1'], 75)) & (X['ps1']>=np.percentile(X['ps1'], 75)) & (X['evfcf']>=np.percentile(X['evfcf'], 75)) & (X['evebitda']>=np.percentile(X['evebitda'], 75))]"
   ]
  },
  {
   "cell_type": "code",
   "execution_count": null,
   "metadata": {},
   "outputs": [],
   "source": [
    "y_train_pred = forest.predict(X25)\n",
    "y_train_pred.mean()"
   ]
  },
  {
   "cell_type": "code",
   "execution_count": null,
   "metadata": {},
   "outputs": [],
   "source": [
    "y_train_pred = forest.predict(X100)\n",
    "y_train_pred.mean()"
   ]
  },
  {
   "cell_type": "code",
   "execution_count": null,
   "metadata": {},
   "outputs": [],
   "source": [
    "\n",
    "import matplotlib.pyplot as plt\n",
    "import numpy as np\n",
    "from sklearn import datasets, linear_model\n",
    "from sklearn.metrics import mean_squared_error, r2_score\n",
    "\n",
    "# Load the diabetes dataset\n",
    "diabetes = datasets.load_diabetes()\n",
    "\n",
    "\n",
    "# Use only one feature\n",
    "diabetes_X = diabetes.data[:, np.newaxis, 2]\n",
    "\n",
    "# Split the data into training/testing sets\n",
    "diabetes_X_train = diabetes_X[:-20]\n",
    "diabetes_X_test = diabetes_X[-20:]\n",
    "\n",
    "# Split the targets into training/testing sets\n",
    "diabetes_y_train = diabetes.target[:-20]\n",
    "diabetes_y_test = diabetes.target[-20:]\n",
    "\n",
    "# Create linear regression object\n",
    "regr = linear_model.LinearRegression()\n",
    "\n",
    "# Train the model using the training sets\n",
    "regr.fit(diabetes_X_train, diabetes_y_train)\n",
    "\n",
    "# Make predictions using the testing set\n",
    "diabetes_y_pred = regr.predict(diabetes_X_test)\n",
    "\n",
    "# The coefficients\n",
    "print('Coefficients: \\n', regr.coef_)\n",
    "# The mean squared error\n",
    "print(\"Mean squared error: %.2f\"\n",
    "      % mean_squared_error(diabetes_y_test, diabetes_y_pred))\n",
    "# Explained variance score: 1 is perfect prediction\n",
    "print('Variance score: %.2f' % r2_score(diabetes_y_test, diabetes_y_pred))\n",
    "\n",
    "# Plot outputs\n",
    "plt.scatter(diabetes_X_test, diabetes_y_test,  color='black')\n",
    "plt.plot(diabetes_X_test, diabetes_y_pred, color='blue', linewidth=3)\n",
    "\n",
    "plt.xticks(())\n",
    "plt.yticks(())\n",
    "\n",
    "plt.show()"
   ]
  },
  {
   "cell_type": "markdown",
   "metadata": {},
   "source": [
    "# Gradiant Boost Regression"
   ]
  },
  {
   "cell_type": "code",
   "execution_count": null,
   "metadata": {},
   "outputs": [],
   "source": [
    "print(__doc__)\n",
    "\n",
    "# Author: Peter Prettenhofer <peter.prettenhofer@gmail.com>\n",
    "#\n",
    "# License: BSD 3 clause\n",
    "\n",
    "import numpy as np\n",
    "import matplotlib.pyplot as plt\n",
    "\n",
    "from sklearn import ensemble\n",
    "from sklearn import datasets\n",
    "from sklearn.utils import shuffle\n",
    "from sklearn.metrics import mean_squared_error\n",
    "\n",
    "# #############################################################################\n",
    "# Load data\n",
    "#boston = datasets.load_boston()\n",
    "#X, y = shuffle(boston.data, boston.target, random_state=13)\n",
    "#X = X.astype(np.float32)\n",
    "\n",
    "#X = finalDf['principal component 1'].values.reshape(-1, 1)\n",
    "#y = finalDf['performance'].values\n",
    "\n",
    "X = tablepositive[['evrevenue','pb','pe1','ps1','evfcf','evebitda']]\n",
    "\n",
    "Y = tablepositive['performance']\n",
    "\n",
    "from sklearn.model_selection import train_test_split\n",
    "X_train, X_test, y_train, y_test = train_test_split(X,y,test_size = 0.2, random_state = 1)\n",
    "\n",
    "\n",
    "#subtracting last item into target\n",
    "#offset = int(X.shape[0] * 0.9)\n",
    "#X_train, y_train = X[:offset], y[:offset]\n",
    "#X_test, y_test = X[offset:], y[offset:]\n",
    "\n",
    "# #############################################################################\n",
    "# Fit regression model\n",
    "params = {'n_estimators': 100, 'max_depth': 3, 'min_samples_split': 2,\n",
    "          'learning_rate': .1, 'loss': 'ls','criterion':'friedman_mse'}\n",
    "clf = ensemble.GradientBoostingRegressor(**params)\n",
    "\n",
    "clf.fit(X_train, y_train)\n",
    "mse = mean_squared_error(y_test, clf.predict(X_test))\n",
    "print(\"MSE: %.4f\" % mse)\n",
    "\n",
    "# #############################################################################\n",
    "# Plot training deviance\n",
    "\n",
    "# compute test set deviance\n",
    "test_score = np.zeros((params['n_estimators'],), dtype=np.float64)\n",
    "\n",
    "for i, y_pred in enumerate(clf.staged_predict(X_test)):\n",
    "    test_score[i] = clf.loss_(y_test, y_pred)\n",
    "\n",
    "plt.figure(figsize=(12, 6))\n",
    "plt.subplot(1, 2, 1)\n",
    "\n",
    "#add space between plots\n",
    "plt.subplots_adjust(left=None, bottom=None, right=None, top=None,\n",
    "                wspace=.3, hspace=None)\n",
    "\n",
    "plt.title('Deviance')\n",
    "plt.plot(np.arange(params['n_estimators']) + 1, clf.train_score_, 'b-',\n",
    "         label='Training Set Deviance')\n",
    "plt.plot(np.arange(params['n_estimators']) + 1, test_score, 'r-',\n",
    "         label='Test Set Deviance')\n",
    "plt.legend(loc='upper right')\n",
    "plt.xlabel('Boosting Iterations')\n",
    "plt.ylabel('Deviance')\n",
    "\n",
    "# #############################################################################\n",
    "# Plot feature importance\n",
    "feature_importance = clf.feature_importances_\n",
    "# make importances relative to max importance\n",
    "feature_importance = 100.0 * (feature_importance / feature_importance.max())\n",
    "sorted_idx = np.argsort(feature_importance)\n",
    "pos = np.arange(sorted_idx.shape[0]) + .5\n",
    "plt.subplot(1, 2, 2)\n",
    "\n",
    "#sort features by feature importance for graph legend\n",
    "dict1 = dict(zip(features, feature_importance))\n",
    "import operator\n",
    "sorted_d = sorted(dict1.items(), key=operator.itemgetter(1))\n",
    "sorted_d = list(dict(sorted_d).keys())\n",
    "\n",
    "plt.barh(pos, feature_importance[sorted_idx], align='center')\n",
    "plt.yticks(pos, sorted_d)\n",
    "plt.xlabel('Relative Importance')\n",
    "plt.title('Variable Importance')\n",
    "plt.show()"
   ]
  },
  {
   "cell_type": "code",
   "execution_count": null,
   "metadata": {},
   "outputs": [],
   "source": [
    "print(__doc__)\n",
    "\n",
    "# Author: Peter Prettenhofer <peter.prettenhofer@gmail.com>\n",
    "#\n",
    "# License: BSD 3 clause\n",
    "\n",
    "import numpy as np\n",
    "import matplotlib.pyplot as plt\n",
    "\n",
    "from sklearn import ensemble\n",
    "from sklearn import datasets\n",
    "from sklearn.utils import shuffle\n",
    "from sklearn.metrics import mean_squared_error\n",
    "\n",
    "# #############################################################################\n",
    "# Load data\n",
    "#boston = datasets.load_boston()\n",
    "#X, y = shuffle(boston.data, boston.target, random_state=13)\n",
    "#X = X.astype(np.float32)\n",
    "\n",
    "#X = finalDf['principal component 1'].values.reshape(-1, 1)\n",
    "#y = finalDf['performance'].values\n",
    "\n",
    "X = tablepositive[['evrevenue','pb','pe1','ps1','evfcf','evebitda']]\n",
    "\n",
    "Y = tablepositive['performance']\n",
    "\n",
    "from sklearn.model_selection import train_test_split\n",
    "X_train, X_test, y_train, y_test = train_test_split(X,y,test_size = 0.2, random_state = 1)\n",
    "\n",
    "\n",
    "#subtracting last item into target\n",
    "#offset = int(X.shape[0] * 0.9)\n",
    "#X_train, y_train = X[:offset], y[:offset]\n",
    "#X_test, y_test = X[offset:], y[offset:]\n",
    "\n",
    "# #############################################################################\n",
    "# Fit regression model\n",
    "params = {'n_estimators': 1000, 'max_depth': 3, 'min_samples_split': 2,\n",
    "          'learning_rate': .1, 'loss': 'ls','criterion':'friedman_mse'}\n",
    "clf = ensemble.GradientBoostingRegressor(**params)\n",
    "\n",
    "clf.fit(X_train, y_train)\n",
    "mse = mean_squared_error(y_test, clf.predict(X_test))\n",
    "print(\"MSE: %.4f\" % mse)\n",
    "\n",
    "# #############################################################################\n",
    "# Plot training deviance\n",
    "\n",
    "# compute test set deviance\n",
    "test_score = np.zeros((params['n_estimators'],), dtype=np.float64)\n",
    "\n",
    "for i, y_pred in enumerate(clf.staged_predict(X_test)):\n",
    "    test_score[i] = clf.loss_(y_test, y_pred)\n",
    "\n",
    "plt.figure(figsize=(12, 6))\n",
    "plt.subplot(1, 2, 1)\n",
    "\n",
    "#add space between plots\n",
    "plt.subplots_adjust(left=None, bottom=None, right=None, top=None,\n",
    "                wspace=.3, hspace=None)\n",
    "\n",
    "plt.title('Deviance')\n",
    "plt.plot(np.arange(params['n_estimators']) + 1, clf.train_score_, 'b-',\n",
    "         label='Training Set Deviance')\n",
    "plt.plot(np.arange(params['n_estimators']) + 1, test_score, 'r-',\n",
    "         label='Test Set Deviance')\n",
    "plt.legend(loc='upper right')\n",
    "plt.xlabel('Boosting Iterations')\n",
    "plt.ylabel('Deviance')\n",
    "\n",
    "# #############################################################################\n",
    "# Plot feature importance\n",
    "feature_importance = clf.feature_importances_\n",
    "# make importances relative to max importance\n",
    "feature_importance = 100.0 * (feature_importance / feature_importance.max())\n",
    "sorted_idx = np.argsort(feature_importance)\n",
    "pos = np.arange(sorted_idx.shape[0]) + .5\n",
    "plt.subplot(1, 2, 2)\n",
    "\n",
    "#sort features by feature importance for graph legend\n",
    "dict1 = dict(zip(features, feature_importance))\n",
    "import operator\n",
    "sorted_d = sorted(dict1.items(), key=operator.itemgetter(1))\n",
    "sorted_d = list(dict(sorted_d).keys())\n",
    "\n",
    "plt.barh(pos, feature_importance[sorted_idx], align='center')\n",
    "plt.yticks(pos, sorted_d)\n",
    "plt.xlabel('Relative Importance')\n",
    "plt.title('Variable Importance')\n",
    "plt.show()"
   ]
  },
  {
   "cell_type": "code",
   "execution_count": null,
   "metadata": {
    "collapsed": true
   },
   "outputs": [],
   "source": [
    "dict1 = dict(zip(features, feature_importance))"
   ]
  },
  {
   "cell_type": "code",
   "execution_count": null,
   "metadata": {
    "collapsed": true
   },
   "outputs": [],
   "source": [
    "dict1"
   ]
  },
  {
   "cell_type": "code",
   "execution_count": null,
   "metadata": {
    "collapsed": true
   },
   "outputs": [],
   "source": [
    "sorted_d"
   ]
  },
  {
   "cell_type": "code",
   "execution_count": null,
   "metadata": {
    "collapsed": true
   },
   "outputs": [],
   "source": [
    "list(dict(sorted_d).keys())"
   ]
  },
  {
   "cell_type": "code",
   "execution_count": null,
   "metadata": {},
   "outputs": [],
   "source": [
    "features"
   ]
  },
  {
   "cell_type": "code",
   "execution_count": null,
   "metadata": {},
   "outputs": [],
   "source": [
    "feature_importance"
   ]
  },
  {
   "cell_type": "code",
   "execution_count": null,
   "metadata": {
    "collapsed": true
   },
   "outputs": [],
   "source": [
    "['evrevenue','pb','pe1','ps1','evfcf','evebitda']\n",
    "feature_importance[sorted_idx]"
   ]
  },
  {
   "cell_type": "code",
   "execution_count": null,
   "metadata": {
    "collapsed": true
   },
   "outputs": [],
   "source": [
    "y_train_pred = clf.predict(X_train)\n",
    "y_train_pred.mean()"
   ]
  },
  {
   "cell_type": "code",
   "execution_count": null,
   "metadata": {
    "collapsed": true
   },
   "outputs": [],
   "source": [
    "y_train_pred = clf.predict(X25)\n",
    "y_train_pred.mean()"
   ]
  },
  {
   "cell_type": "code",
   "execution_count": null,
   "metadata": {
    "collapsed": true
   },
   "outputs": [],
   "source": [
    "y_train_pred = clf.predict(X100)\n",
    "y_train_pred.mean()"
   ]
  },
  {
   "cell_type": "code",
   "execution_count": null,
   "metadata": {
    "collapsed": true
   },
   "outputs": [],
   "source": [
    "test_score[3]"
   ]
  },
  {
   "cell_type": "code",
   "execution_count": null,
   "metadata": {
    "collapsed": true
   },
   "outputs": [],
   "source": [
    "#Gradiant Booster Regression\n",
    "#mse between actual and predicted."
   ]
  },
  {
   "cell_type": "code",
   "execution_count": null,
   "metadata": {
    "collapsed": true
   },
   "outputs": [],
   "source": [
    "#select sample with highest probability of positive performance..."
   ]
  },
  {
   "cell_type": "code",
   "execution_count": null,
   "metadata": {
    "collapsed": true
   },
   "outputs": [],
   "source": [
    "#upsample 0 data and logistic regression to select stocks based on valuation data...\n",
    "#data is ok as all numerical. does not need to be changed to binary\n",
    "#probability that below 25% quantile belong to positive class vs rest.\n",
    "#mean of valuation metrics selected by logistic model\n",
    "#0 to 1 for data above 25% quantile"
   ]
  },
  {
   "cell_type": "code",
   "execution_count": null,
   "metadata": {
    "collapsed": true
   },
   "outputs": [],
   "source": [
    "#With growth FCF outperforms. With all PB outperforms. All value metrics outperform overall portfolio\n",
    "#P/B and P/FCF less manipulated\n",
    "#redo analysis with tablefrg\n",
    "#make performance charts to compare data"
   ]
  },
  {
   "cell_type": "code",
   "execution_count": null,
   "metadata": {
    "collapsed": true
   },
   "outputs": [],
   "source": [
    "#WEEKLY CALL QUESTIONS\n",
    "#Paramaters\n",
    "#clf.loss_(y_test, y_pred)"
   ]
  }
 ],
 "metadata": {
  "kernelspec": {
   "display_name": "Python 3",
   "language": "python",
   "name": "python3"
  },
  "language_info": {
   "codemirror_mode": {
    "name": "ipython",
    "version": 3
   },
   "file_extension": ".py",
   "mimetype": "text/x-python",
   "name": "python",
   "nbconvert_exporter": "python",
   "pygments_lexer": "ipython3",
   "version": "3.6.3"
  }
 },
 "nbformat": 4,
 "nbformat_minor": 2
}
